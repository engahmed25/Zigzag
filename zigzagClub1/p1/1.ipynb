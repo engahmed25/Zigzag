{
 "cells": [
  {
   "cell_type": "code",
   "execution_count": 2,
   "id": "ca4ac612",
   "metadata": {},
   "outputs": [
    {
     "data": {
      "text/html": [
       "<div>\n",
       "<style scoped>\n",
       "    .dataframe tbody tr th:only-of-type {\n",
       "        vertical-align: middle;\n",
       "    }\n",
       "\n",
       "    .dataframe tbody tr th {\n",
       "        vertical-align: top;\n",
       "    }\n",
       "\n",
       "    .dataframe thead th {\n",
       "        text-align: right;\n",
       "    }\n",
       "</style>\n",
       "<table border=\"1\" class=\"dataframe\">\n",
       "  <thead>\n",
       "    <tr style=\"text-align: right;\">\n",
       "      <th></th>\n",
       "      <th>Unnamed: 0</th>\n",
       "      <th>Start Time</th>\n",
       "      <th>End Time</th>\n",
       "      <th>Trip Duration</th>\n",
       "      <th>Start Station</th>\n",
       "      <th>End Station</th>\n",
       "      <th>User Type</th>\n",
       "      <th>Gender</th>\n",
       "      <th>Birth Year</th>\n",
       "    </tr>\n",
       "  </thead>\n",
       "  <tbody>\n",
       "    <tr>\n",
       "      <th>0</th>\n",
       "      <td>1423854</td>\n",
       "      <td>2017-06-23 15:09:32</td>\n",
       "      <td>2017-06-23 15:14:53</td>\n",
       "      <td>321</td>\n",
       "      <td>Wood St &amp; Hubbard St</td>\n",
       "      <td>Damen Ave &amp; Chicago Ave</td>\n",
       "      <td>Subscriber</td>\n",
       "      <td>Male</td>\n",
       "      <td>1992.0</td>\n",
       "    </tr>\n",
       "    <tr>\n",
       "      <th>1</th>\n",
       "      <td>955915</td>\n",
       "      <td>2017-05-25 18:19:03</td>\n",
       "      <td>2017-05-25 18:45:53</td>\n",
       "      <td>1610</td>\n",
       "      <td>Theater on the Lake</td>\n",
       "      <td>Sheffield Ave &amp; Waveland Ave</td>\n",
       "      <td>Subscriber</td>\n",
       "      <td>Female</td>\n",
       "      <td>1992.0</td>\n",
       "    </tr>\n",
       "    <tr>\n",
       "      <th>2</th>\n",
       "      <td>9031</td>\n",
       "      <td>2017-01-04 08:27:49</td>\n",
       "      <td>2017-01-04 08:34:45</td>\n",
       "      <td>416</td>\n",
       "      <td>May St &amp; Taylor St</td>\n",
       "      <td>Wood St &amp; Taylor St</td>\n",
       "      <td>Subscriber</td>\n",
       "      <td>Male</td>\n",
       "      <td>1981.0</td>\n",
       "    </tr>\n",
       "    <tr>\n",
       "      <th>3</th>\n",
       "      <td>304487</td>\n",
       "      <td>2017-03-06 13:49:38</td>\n",
       "      <td>2017-03-06 13:55:28</td>\n",
       "      <td>350</td>\n",
       "      <td>Christiana Ave &amp; Lawrence Ave</td>\n",
       "      <td>St. Louis Ave &amp; Balmoral Ave</td>\n",
       "      <td>Subscriber</td>\n",
       "      <td>Male</td>\n",
       "      <td>1986.0</td>\n",
       "    </tr>\n",
       "    <tr>\n",
       "      <th>4</th>\n",
       "      <td>45207</td>\n",
       "      <td>2017-01-17 14:53:07</td>\n",
       "      <td>2017-01-17 15:02:01</td>\n",
       "      <td>534</td>\n",
       "      <td>Clark St &amp; Randolph St</td>\n",
       "      <td>Desplaines St &amp; Jackson Blvd</td>\n",
       "      <td>Subscriber</td>\n",
       "      <td>Male</td>\n",
       "      <td>1975.0</td>\n",
       "    </tr>\n",
       "    <tr>\n",
       "      <th>...</th>\n",
       "      <td>...</td>\n",
       "      <td>...</td>\n",
       "      <td>...</td>\n",
       "      <td>...</td>\n",
       "      <td>...</td>\n",
       "      <td>...</td>\n",
       "      <td>...</td>\n",
       "      <td>...</td>\n",
       "      <td>...</td>\n",
       "    </tr>\n",
       "    <tr>\n",
       "      <th>299995</th>\n",
       "      <td>64825</td>\n",
       "      <td>2017-01-21 13:18:00</td>\n",
       "      <td>2017-01-21 13:27:50</td>\n",
       "      <td>590</td>\n",
       "      <td>Orleans St &amp; Elm St (*)</td>\n",
       "      <td>Sheffield Ave &amp; Webster Ave</td>\n",
       "      <td>Subscriber</td>\n",
       "      <td>Male</td>\n",
       "      <td>1965.0</td>\n",
       "    </tr>\n",
       "    <tr>\n",
       "      <th>299996</th>\n",
       "      <td>695993</td>\n",
       "      <td>2017-04-28 19:32:19</td>\n",
       "      <td>2017-04-28 19:51:18</td>\n",
       "      <td>1139</td>\n",
       "      <td>Ashland Ave &amp; Blackhawk St</td>\n",
       "      <td>Clark St &amp; Elm St</td>\n",
       "      <td>Customer</td>\n",
       "      <td>NaN</td>\n",
       "      <td>NaN</td>\n",
       "    </tr>\n",
       "    <tr>\n",
       "      <th>299997</th>\n",
       "      <td>159685</td>\n",
       "      <td>2017-02-12 09:59:01</td>\n",
       "      <td>2017-02-12 10:21:49</td>\n",
       "      <td>1368</td>\n",
       "      <td>Ravenswood Ave &amp; Lawrence Ave</td>\n",
       "      <td>Stockton Dr &amp; Wrightwood Ave</td>\n",
       "      <td>Subscriber</td>\n",
       "      <td>Female</td>\n",
       "      <td>1988.0</td>\n",
       "    </tr>\n",
       "    <tr>\n",
       "      <th>299998</th>\n",
       "      <td>564681</td>\n",
       "      <td>2017-04-16 17:07:15</td>\n",
       "      <td>2017-04-16 17:19:00</td>\n",
       "      <td>705</td>\n",
       "      <td>Sheffield Ave &amp; Willow St</td>\n",
       "      <td>Clark St &amp; Chicago Ave</td>\n",
       "      <td>Customer</td>\n",
       "      <td>NaN</td>\n",
       "      <td>NaN</td>\n",
       "    </tr>\n",
       "    <tr>\n",
       "      <th>299999</th>\n",
       "      <td>1021247</td>\n",
       "      <td>2017-05-30 12:38:28</td>\n",
       "      <td>2017-05-30 12:55:36</td>\n",
       "      <td>1028</td>\n",
       "      <td>Wacker Dr &amp; Washington St</td>\n",
       "      <td>Damen Ave &amp; Division St</td>\n",
       "      <td>Subscriber</td>\n",
       "      <td>Male</td>\n",
       "      <td>1984.0</td>\n",
       "    </tr>\n",
       "  </tbody>\n",
       "</table>\n",
       "<p>300000 rows × 9 columns</p>\n",
       "</div>"
      ],
      "text/plain": [
       "        Unnamed: 0           Start Time             End Time  Trip Duration  \\\n",
       "0          1423854  2017-06-23 15:09:32  2017-06-23 15:14:53            321   \n",
       "1           955915  2017-05-25 18:19:03  2017-05-25 18:45:53           1610   \n",
       "2             9031  2017-01-04 08:27:49  2017-01-04 08:34:45            416   \n",
       "3           304487  2017-03-06 13:49:38  2017-03-06 13:55:28            350   \n",
       "4            45207  2017-01-17 14:53:07  2017-01-17 15:02:01            534   \n",
       "...            ...                  ...                  ...            ...   \n",
       "299995       64825  2017-01-21 13:18:00  2017-01-21 13:27:50            590   \n",
       "299996      695993  2017-04-28 19:32:19  2017-04-28 19:51:18           1139   \n",
       "299997      159685  2017-02-12 09:59:01  2017-02-12 10:21:49           1368   \n",
       "299998      564681  2017-04-16 17:07:15  2017-04-16 17:19:00            705   \n",
       "299999     1021247  2017-05-30 12:38:28  2017-05-30 12:55:36           1028   \n",
       "\n",
       "                        Start Station                   End Station  \\\n",
       "0                Wood St & Hubbard St       Damen Ave & Chicago Ave   \n",
       "1                 Theater on the Lake  Sheffield Ave & Waveland Ave   \n",
       "2                  May St & Taylor St           Wood St & Taylor St   \n",
       "3       Christiana Ave & Lawrence Ave  St. Louis Ave & Balmoral Ave   \n",
       "4              Clark St & Randolph St  Desplaines St & Jackson Blvd   \n",
       "...                               ...                           ...   \n",
       "299995        Orleans St & Elm St (*)   Sheffield Ave & Webster Ave   \n",
       "299996     Ashland Ave & Blackhawk St             Clark St & Elm St   \n",
       "299997  Ravenswood Ave & Lawrence Ave  Stockton Dr & Wrightwood Ave   \n",
       "299998      Sheffield Ave & Willow St        Clark St & Chicago Ave   \n",
       "299999      Wacker Dr & Washington St       Damen Ave & Division St   \n",
       "\n",
       "         User Type  Gender  Birth Year  \n",
       "0       Subscriber    Male      1992.0  \n",
       "1       Subscriber  Female      1992.0  \n",
       "2       Subscriber    Male      1981.0  \n",
       "3       Subscriber    Male      1986.0  \n",
       "4       Subscriber    Male      1975.0  \n",
       "...            ...     ...         ...  \n",
       "299995  Subscriber    Male      1965.0  \n",
       "299996    Customer     NaN         NaN  \n",
       "299997  Subscriber  Female      1988.0  \n",
       "299998    Customer     NaN         NaN  \n",
       "299999  Subscriber    Male      1984.0  \n",
       "\n",
       "[300000 rows x 9 columns]"
      ]
     },
     "execution_count": 2,
     "metadata": {},
     "output_type": "execute_result"
    }
   ],
   "source": [
    "import pandas as pd \n",
    "import numpy as py \n",
    "chi = pd.read_csv('F:\\\\udacity\\\\project 1\\\\chicago.csv')\n",
    "chi "
   ]
  },
  {
   "cell_type": "code",
   "execution_count": null,
   "id": "d990ad69",
   "metadata": {},
   "outputs": [],
   "source": []
  },
  {
   "cell_type": "code",
   "execution_count": null,
   "id": "f29e940f",
   "metadata": {},
   "outputs": [],
   "source": [
    "h= pd.read_csv('') \n",
    "h"
   ]
  },
  {
   "cell_type": "code",
   "execution_count": 4,
   "id": "32bfe721",
   "metadata": {},
   "outputs": [
    {
     "data": {
      "text/html": [
       "<div>\n",
       "<style scoped>\n",
       "    .dataframe tbody tr th:only-of-type {\n",
       "        vertical-align: middle;\n",
       "    }\n",
       "\n",
       "    .dataframe tbody tr th {\n",
       "        vertical-align: top;\n",
       "    }\n",
       "\n",
       "    .dataframe thead th {\n",
       "        text-align: right;\n",
       "    }\n",
       "</style>\n",
       "<table border=\"1\" class=\"dataframe\">\n",
       "  <thead>\n",
       "    <tr style=\"text-align: right;\">\n",
       "      <th></th>\n",
       "      <th>Unnamed: 0</th>\n",
       "      <th>Start Time</th>\n",
       "      <th>End Time</th>\n",
       "      <th>Trip Duration</th>\n",
       "      <th>Start Station</th>\n",
       "      <th>End Station</th>\n",
       "      <th>User Type</th>\n",
       "      <th>Gender</th>\n",
       "      <th>Birth Year</th>\n",
       "    </tr>\n",
       "  </thead>\n",
       "  <tbody>\n",
       "    <tr>\n",
       "      <th>0</th>\n",
       "      <td>1423854</td>\n",
       "      <td>2017-06-23 15:09:32</td>\n",
       "      <td>2017-06-23 15:14:53</td>\n",
       "      <td>321</td>\n",
       "      <td>Wood St &amp; Hubbard St</td>\n",
       "      <td>Damen Ave &amp; Chicago Ave</td>\n",
       "      <td>Subscriber</td>\n",
       "      <td>Male</td>\n",
       "      <td>1992.0</td>\n",
       "    </tr>\n",
       "    <tr>\n",
       "      <th>1</th>\n",
       "      <td>955915</td>\n",
       "      <td>2017-05-25 18:19:03</td>\n",
       "      <td>2017-05-25 18:45:53</td>\n",
       "      <td>1610</td>\n",
       "      <td>Theater on the Lake</td>\n",
       "      <td>Sheffield Ave &amp; Waveland Ave</td>\n",
       "      <td>Subscriber</td>\n",
       "      <td>Female</td>\n",
       "      <td>1992.0</td>\n",
       "    </tr>\n",
       "    <tr>\n",
       "      <th>2</th>\n",
       "      <td>9031</td>\n",
       "      <td>2017-01-04 08:27:49</td>\n",
       "      <td>2017-01-04 08:34:45</td>\n",
       "      <td>416</td>\n",
       "      <td>May St &amp; Taylor St</td>\n",
       "      <td>Wood St &amp; Taylor St</td>\n",
       "      <td>Subscriber</td>\n",
       "      <td>Male</td>\n",
       "      <td>1981.0</td>\n",
       "    </tr>\n",
       "    <tr>\n",
       "      <th>3</th>\n",
       "      <td>304487</td>\n",
       "      <td>2017-03-06 13:49:38</td>\n",
       "      <td>2017-03-06 13:55:28</td>\n",
       "      <td>350</td>\n",
       "      <td>Christiana Ave &amp; Lawrence Ave</td>\n",
       "      <td>St. Louis Ave &amp; Balmoral Ave</td>\n",
       "      <td>Subscriber</td>\n",
       "      <td>Male</td>\n",
       "      <td>1986.0</td>\n",
       "    </tr>\n",
       "    <tr>\n",
       "      <th>4</th>\n",
       "      <td>45207</td>\n",
       "      <td>2017-01-17 14:53:07</td>\n",
       "      <td>2017-01-17 15:02:01</td>\n",
       "      <td>534</td>\n",
       "      <td>Clark St &amp; Randolph St</td>\n",
       "      <td>Desplaines St &amp; Jackson Blvd</td>\n",
       "      <td>Subscriber</td>\n",
       "      <td>Male</td>\n",
       "      <td>1975.0</td>\n",
       "    </tr>\n",
       "    <tr>\n",
       "      <th>...</th>\n",
       "      <td>...</td>\n",
       "      <td>...</td>\n",
       "      <td>...</td>\n",
       "      <td>...</td>\n",
       "      <td>...</td>\n",
       "      <td>...</td>\n",
       "      <td>...</td>\n",
       "      <td>...</td>\n",
       "      <td>...</td>\n",
       "    </tr>\n",
       "    <tr>\n",
       "      <th>299995</th>\n",
       "      <td>64825</td>\n",
       "      <td>2017-01-21 13:18:00</td>\n",
       "      <td>2017-01-21 13:27:50</td>\n",
       "      <td>590</td>\n",
       "      <td>Orleans St &amp; Elm St (*)</td>\n",
       "      <td>Sheffield Ave &amp; Webster Ave</td>\n",
       "      <td>Subscriber</td>\n",
       "      <td>Male</td>\n",
       "      <td>1965.0</td>\n",
       "    </tr>\n",
       "    <tr>\n",
       "      <th>299996</th>\n",
       "      <td>695993</td>\n",
       "      <td>2017-04-28 19:32:19</td>\n",
       "      <td>2017-04-28 19:51:18</td>\n",
       "      <td>1139</td>\n",
       "      <td>Ashland Ave &amp; Blackhawk St</td>\n",
       "      <td>Clark St &amp; Elm St</td>\n",
       "      <td>Customer</td>\n",
       "      <td>NaN</td>\n",
       "      <td>NaN</td>\n",
       "    </tr>\n",
       "    <tr>\n",
       "      <th>299997</th>\n",
       "      <td>159685</td>\n",
       "      <td>2017-02-12 09:59:01</td>\n",
       "      <td>2017-02-12 10:21:49</td>\n",
       "      <td>1368</td>\n",
       "      <td>Ravenswood Ave &amp; Lawrence Ave</td>\n",
       "      <td>Stockton Dr &amp; Wrightwood Ave</td>\n",
       "      <td>Subscriber</td>\n",
       "      <td>Female</td>\n",
       "      <td>1988.0</td>\n",
       "    </tr>\n",
       "    <tr>\n",
       "      <th>299998</th>\n",
       "      <td>564681</td>\n",
       "      <td>2017-04-16 17:07:15</td>\n",
       "      <td>2017-04-16 17:19:00</td>\n",
       "      <td>705</td>\n",
       "      <td>Sheffield Ave &amp; Willow St</td>\n",
       "      <td>Clark St &amp; Chicago Ave</td>\n",
       "      <td>Customer</td>\n",
       "      <td>NaN</td>\n",
       "      <td>NaN</td>\n",
       "    </tr>\n",
       "    <tr>\n",
       "      <th>299999</th>\n",
       "      <td>1021247</td>\n",
       "      <td>2017-05-30 12:38:28</td>\n",
       "      <td>2017-05-30 12:55:36</td>\n",
       "      <td>1028</td>\n",
       "      <td>Wacker Dr &amp; Washington St</td>\n",
       "      <td>Damen Ave &amp; Division St</td>\n",
       "      <td>Subscriber</td>\n",
       "      <td>Male</td>\n",
       "      <td>1984.0</td>\n",
       "    </tr>\n",
       "  </tbody>\n",
       "</table>\n",
       "<p>300000 rows × 9 columns</p>\n",
       "</div>"
      ],
      "text/plain": [
       "        Unnamed: 0           Start Time             End Time  Trip Duration  \\\n",
       "0          1423854  2017-06-23 15:09:32  2017-06-23 15:14:53            321   \n",
       "1           955915  2017-05-25 18:19:03  2017-05-25 18:45:53           1610   \n",
       "2             9031  2017-01-04 08:27:49  2017-01-04 08:34:45            416   \n",
       "3           304487  2017-03-06 13:49:38  2017-03-06 13:55:28            350   \n",
       "4            45207  2017-01-17 14:53:07  2017-01-17 15:02:01            534   \n",
       "...            ...                  ...                  ...            ...   \n",
       "299995       64825  2017-01-21 13:18:00  2017-01-21 13:27:50            590   \n",
       "299996      695993  2017-04-28 19:32:19  2017-04-28 19:51:18           1139   \n",
       "299997      159685  2017-02-12 09:59:01  2017-02-12 10:21:49           1368   \n",
       "299998      564681  2017-04-16 17:07:15  2017-04-16 17:19:00            705   \n",
       "299999     1021247  2017-05-30 12:38:28  2017-05-30 12:55:36           1028   \n",
       "\n",
       "                        Start Station                   End Station  \\\n",
       "0                Wood St & Hubbard St       Damen Ave & Chicago Ave   \n",
       "1                 Theater on the Lake  Sheffield Ave & Waveland Ave   \n",
       "2                  May St & Taylor St           Wood St & Taylor St   \n",
       "3       Christiana Ave & Lawrence Ave  St. Louis Ave & Balmoral Ave   \n",
       "4              Clark St & Randolph St  Desplaines St & Jackson Blvd   \n",
       "...                               ...                           ...   \n",
       "299995        Orleans St & Elm St (*)   Sheffield Ave & Webster Ave   \n",
       "299996     Ashland Ave & Blackhawk St             Clark St & Elm St   \n",
       "299997  Ravenswood Ave & Lawrence Ave  Stockton Dr & Wrightwood Ave   \n",
       "299998      Sheffield Ave & Willow St        Clark St & Chicago Ave   \n",
       "299999      Wacker Dr & Washington St       Damen Ave & Division St   \n",
       "\n",
       "         User Type  Gender  Birth Year  \n",
       "0       Subscriber    Male      1992.0  \n",
       "1       Subscriber  Female      1992.0  \n",
       "2       Subscriber    Male      1981.0  \n",
       "3       Subscriber    Male      1986.0  \n",
       "4       Subscriber    Male      1975.0  \n",
       "...            ...     ...         ...  \n",
       "299995  Subscriber    Male      1965.0  \n",
       "299996    Customer     NaN         NaN  \n",
       "299997  Subscriber  Female      1988.0  \n",
       "299998    Customer     NaN         NaN  \n",
       "299999  Subscriber    Male      1984.0  \n",
       "\n",
       "[300000 rows x 9 columns]"
      ]
     },
     "execution_count": 4,
     "metadata": {},
     "output_type": "execute_result"
    }
   ],
   "source": [
    "\n",
    "chi = pd.read_csv('F:\\\\udacity\\\\project 1\\\\chicago.csv')\n",
    "chi "
   ]
  },
  {
   "cell_type": "code",
   "execution_count": 5,
   "id": "e1cf9d7c",
   "metadata": {},
   "outputs": [
    {
     "data": {
      "text/html": [
       "<div>\n",
       "<style scoped>\n",
       "    .dataframe tbody tr th:only-of-type {\n",
       "        vertical-align: middle;\n",
       "    }\n",
       "\n",
       "    .dataframe tbody tr th {\n",
       "        vertical-align: top;\n",
       "    }\n",
       "\n",
       "    .dataframe thead th {\n",
       "        text-align: right;\n",
       "    }\n",
       "</style>\n",
       "<table border=\"1\" class=\"dataframe\">\n",
       "  <thead>\n",
       "    <tr style=\"text-align: right;\">\n",
       "      <th></th>\n",
       "      <th>Unnamed: 0</th>\n",
       "      <th>Start Time</th>\n",
       "      <th>End Time</th>\n",
       "      <th>Trip Duration</th>\n",
       "      <th>Start Station</th>\n",
       "      <th>End Station</th>\n",
       "      <th>User Type</th>\n",
       "      <th>Gender</th>\n",
       "      <th>Birth Year</th>\n",
       "    </tr>\n",
       "  </thead>\n",
       "  <tbody>\n",
       "    <tr>\n",
       "      <th>0</th>\n",
       "      <td>5688089</td>\n",
       "      <td>2017-06-11 14:55:05</td>\n",
       "      <td>2017-06-11 15:08:21</td>\n",
       "      <td>795</td>\n",
       "      <td>Suffolk St &amp; Stanton St</td>\n",
       "      <td>W Broadway &amp; Spring St</td>\n",
       "      <td>Subscriber</td>\n",
       "      <td>Male</td>\n",
       "      <td>1998.0</td>\n",
       "    </tr>\n",
       "    <tr>\n",
       "      <th>1</th>\n",
       "      <td>4096714</td>\n",
       "      <td>2017-05-11 15:30:11</td>\n",
       "      <td>2017-05-11 15:41:43</td>\n",
       "      <td>692</td>\n",
       "      <td>Lexington Ave &amp; E 63 St</td>\n",
       "      <td>1 Ave &amp; E 78 St</td>\n",
       "      <td>Subscriber</td>\n",
       "      <td>Male</td>\n",
       "      <td>1981.0</td>\n",
       "    </tr>\n",
       "    <tr>\n",
       "      <th>2</th>\n",
       "      <td>2173887</td>\n",
       "      <td>2017-03-29 13:26:26</td>\n",
       "      <td>2017-03-29 13:48:31</td>\n",
       "      <td>1325</td>\n",
       "      <td>1 Pl &amp; Clinton St</td>\n",
       "      <td>Henry St &amp; Degraw St</td>\n",
       "      <td>Subscriber</td>\n",
       "      <td>Male</td>\n",
       "      <td>1987.0</td>\n",
       "    </tr>\n",
       "    <tr>\n",
       "      <th>3</th>\n",
       "      <td>3945638</td>\n",
       "      <td>2017-05-08 19:47:18</td>\n",
       "      <td>2017-05-08 19:59:01</td>\n",
       "      <td>703</td>\n",
       "      <td>Barrow St &amp; Hudson St</td>\n",
       "      <td>W 20 St &amp; 8 Ave</td>\n",
       "      <td>Subscriber</td>\n",
       "      <td>Female</td>\n",
       "      <td>1986.0</td>\n",
       "    </tr>\n",
       "    <tr>\n",
       "      <th>4</th>\n",
       "      <td>6208972</td>\n",
       "      <td>2017-06-21 07:49:16</td>\n",
       "      <td>2017-06-21 07:54:46</td>\n",
       "      <td>329</td>\n",
       "      <td>1 Ave &amp; E 44 St</td>\n",
       "      <td>E 53 St &amp; 3 Ave</td>\n",
       "      <td>Subscriber</td>\n",
       "      <td>Male</td>\n",
       "      <td>1992.0</td>\n",
       "    </tr>\n",
       "    <tr>\n",
       "      <th>...</th>\n",
       "      <td>...</td>\n",
       "      <td>...</td>\n",
       "      <td>...</td>\n",
       "      <td>...</td>\n",
       "      <td>...</td>\n",
       "      <td>...</td>\n",
       "      <td>...</td>\n",
       "      <td>...</td>\n",
       "      <td>...</td>\n",
       "    </tr>\n",
       "    <tr>\n",
       "      <th>299995</th>\n",
       "      <td>3273600</td>\n",
       "      <td>2017-04-24 17:51:12</td>\n",
       "      <td>2017-04-24 17:59:28</td>\n",
       "      <td>495</td>\n",
       "      <td>W 25 St &amp; 6 Ave</td>\n",
       "      <td>W 38 St &amp; 8 Ave</td>\n",
       "      <td>Subscriber</td>\n",
       "      <td>Male</td>\n",
       "      <td>1977.0</td>\n",
       "    </tr>\n",
       "    <tr>\n",
       "      <th>299996</th>\n",
       "      <td>3418509</td>\n",
       "      <td>2017-04-28 12:02:29</td>\n",
       "      <td>2017-04-28 12:19:04</td>\n",
       "      <td>994</td>\n",
       "      <td>W 27 St &amp; 7 Ave</td>\n",
       "      <td>W 52 St &amp; 5 Ave</td>\n",
       "      <td>Subscriber</td>\n",
       "      <td>Male</td>\n",
       "      <td>1967.0</td>\n",
       "    </tr>\n",
       "    <tr>\n",
       "      <th>299997</th>\n",
       "      <td>5034995</td>\n",
       "      <td>2017-05-31 09:11:10</td>\n",
       "      <td>2017-05-31 09:24:16</td>\n",
       "      <td>785</td>\n",
       "      <td>3 Ave &amp; E 72 St</td>\n",
       "      <td>W 44 St &amp; 5 Ave</td>\n",
       "      <td>Subscriber</td>\n",
       "      <td>Male</td>\n",
       "      <td>1972.0</td>\n",
       "    </tr>\n",
       "    <tr>\n",
       "      <th>299998</th>\n",
       "      <td>78227</td>\n",
       "      <td>2017-01-05 08:31:37</td>\n",
       "      <td>2017-01-05 08:51:01</td>\n",
       "      <td>1164</td>\n",
       "      <td>Columbia St &amp; Kane St</td>\n",
       "      <td>Barclay St &amp; Church St</td>\n",
       "      <td>Subscriber</td>\n",
       "      <td>Male</td>\n",
       "      <td>1964.0</td>\n",
       "    </tr>\n",
       "    <tr>\n",
       "      <th>299999</th>\n",
       "      <td>2554332</td>\n",
       "      <td>2017-04-09 17:46:51</td>\n",
       "      <td>2017-04-09 18:06:40</td>\n",
       "      <td>1189</td>\n",
       "      <td>Division St &amp; Bowery</td>\n",
       "      <td>Lafayette St &amp; Jersey St</td>\n",
       "      <td>Subscriber</td>\n",
       "      <td>Female</td>\n",
       "      <td>1985.0</td>\n",
       "    </tr>\n",
       "  </tbody>\n",
       "</table>\n",
       "<p>300000 rows × 9 columns</p>\n",
       "</div>"
      ],
      "text/plain": [
       "        Unnamed: 0           Start Time             End Time  Trip Duration  \\\n",
       "0          5688089  2017-06-11 14:55:05  2017-06-11 15:08:21            795   \n",
       "1          4096714  2017-05-11 15:30:11  2017-05-11 15:41:43            692   \n",
       "2          2173887  2017-03-29 13:26:26  2017-03-29 13:48:31           1325   \n",
       "3          3945638  2017-05-08 19:47:18  2017-05-08 19:59:01            703   \n",
       "4          6208972  2017-06-21 07:49:16  2017-06-21 07:54:46            329   \n",
       "...            ...                  ...                  ...            ...   \n",
       "299995     3273600  2017-04-24 17:51:12  2017-04-24 17:59:28            495   \n",
       "299996     3418509  2017-04-28 12:02:29  2017-04-28 12:19:04            994   \n",
       "299997     5034995  2017-05-31 09:11:10  2017-05-31 09:24:16            785   \n",
       "299998       78227  2017-01-05 08:31:37  2017-01-05 08:51:01           1164   \n",
       "299999     2554332  2017-04-09 17:46:51  2017-04-09 18:06:40           1189   \n",
       "\n",
       "                  Start Station               End Station   User Type  Gender  \\\n",
       "0       Suffolk St & Stanton St    W Broadway & Spring St  Subscriber    Male   \n",
       "1       Lexington Ave & E 63 St           1 Ave & E 78 St  Subscriber    Male   \n",
       "2             1 Pl & Clinton St      Henry St & Degraw St  Subscriber    Male   \n",
       "3         Barrow St & Hudson St           W 20 St & 8 Ave  Subscriber  Female   \n",
       "4               1 Ave & E 44 St           E 53 St & 3 Ave  Subscriber    Male   \n",
       "...                         ...                       ...         ...     ...   \n",
       "299995          W 25 St & 6 Ave           W 38 St & 8 Ave  Subscriber    Male   \n",
       "299996          W 27 St & 7 Ave           W 52 St & 5 Ave  Subscriber    Male   \n",
       "299997          3 Ave & E 72 St           W 44 St & 5 Ave  Subscriber    Male   \n",
       "299998    Columbia St & Kane St    Barclay St & Church St  Subscriber    Male   \n",
       "299999     Division St & Bowery  Lafayette St & Jersey St  Subscriber  Female   \n",
       "\n",
       "        Birth Year  \n",
       "0           1998.0  \n",
       "1           1981.0  \n",
       "2           1987.0  \n",
       "3           1986.0  \n",
       "4           1992.0  \n",
       "...            ...  \n",
       "299995      1977.0  \n",
       "299996      1967.0  \n",
       "299997      1972.0  \n",
       "299998      1964.0  \n",
       "299999      1985.0  \n",
       "\n",
       "[300000 rows x 9 columns]"
      ]
     },
     "execution_count": 5,
     "metadata": {},
     "output_type": "execute_result"
    }
   ],
   "source": [
    "nyc= pd.read_csv('F:\\\\udacity\\\\project 1\\\\new_york_city.csv')\n",
    "nyc "
   ]
  },
  {
   "cell_type": "code",
   "execution_count": 38,
   "id": "abcbccd6",
   "metadata": {},
   "outputs": [
    {
     "data": {
      "text/html": [
       "<div>\n",
       "<style scoped>\n",
       "    .dataframe tbody tr th:only-of-type {\n",
       "        vertical-align: middle;\n",
       "    }\n",
       "\n",
       "    .dataframe tbody tr th {\n",
       "        vertical-align: top;\n",
       "    }\n",
       "\n",
       "    .dataframe thead th {\n",
       "        text-align: right;\n",
       "    }\n",
       "</style>\n",
       "<table border=\"1\" class=\"dataframe\">\n",
       "  <thead>\n",
       "    <tr style=\"text-align: right;\">\n",
       "      <th></th>\n",
       "      <th>Unnamed: 0</th>\n",
       "      <th>Start Time</th>\n",
       "      <th>End Time</th>\n",
       "      <th>Trip Duration</th>\n",
       "      <th>Start Station</th>\n",
       "      <th>End Station</th>\n",
       "      <th>User Type</th>\n",
       "    </tr>\n",
       "  </thead>\n",
       "  <tbody>\n",
       "    <tr>\n",
       "      <th>0</th>\n",
       "      <td>1621326</td>\n",
       "      <td>2017-06-21 08:36:34</td>\n",
       "      <td>2017-06-21 08:44:43</td>\n",
       "      <td>489.066</td>\n",
       "      <td>14th &amp; Belmont St NW</td>\n",
       "      <td>15th &amp; K St NW</td>\n",
       "      <td>Subscriber</td>\n",
       "    </tr>\n",
       "    <tr>\n",
       "      <th>1</th>\n",
       "      <td>482740</td>\n",
       "      <td>2017-03-11 10:40:00</td>\n",
       "      <td>2017-03-11 10:46:00</td>\n",
       "      <td>402.549</td>\n",
       "      <td>Yuma St &amp; Tenley Circle NW</td>\n",
       "      <td>Connecticut Ave &amp; Yuma St NW</td>\n",
       "      <td>Subscriber</td>\n",
       "    </tr>\n",
       "    <tr>\n",
       "      <th>2</th>\n",
       "      <td>1330037</td>\n",
       "      <td>2017-05-30 01:02:59</td>\n",
       "      <td>2017-05-30 01:13:37</td>\n",
       "      <td>637.251</td>\n",
       "      <td>17th St &amp; Massachusetts Ave NW</td>\n",
       "      <td>5th &amp; K St NW</td>\n",
       "      <td>Subscriber</td>\n",
       "    </tr>\n",
       "    <tr>\n",
       "      <th>3</th>\n",
       "      <td>665458</td>\n",
       "      <td>2017-04-02 07:48:35</td>\n",
       "      <td>2017-04-02 08:19:03</td>\n",
       "      <td>1827.341</td>\n",
       "      <td>Constitution Ave &amp; 2nd St NW/DOL</td>\n",
       "      <td>M St &amp; Pennsylvania Ave NW</td>\n",
       "      <td>Customer</td>\n",
       "    </tr>\n",
       "    <tr>\n",
       "      <th>4</th>\n",
       "      <td>1481135</td>\n",
       "      <td>2017-06-10 08:36:28</td>\n",
       "      <td>2017-06-10 09:02:17</td>\n",
       "      <td>1549.427</td>\n",
       "      <td>Henry Bacon Dr &amp; Lincoln Memorial Circle NW</td>\n",
       "      <td>Maine Ave &amp; 7th St SW</td>\n",
       "      <td>Subscriber</td>\n",
       "    </tr>\n",
       "    <tr>\n",
       "      <th>...</th>\n",
       "      <td>...</td>\n",
       "      <td>...</td>\n",
       "      <td>...</td>\n",
       "      <td>...</td>\n",
       "      <td>...</td>\n",
       "      <td>...</td>\n",
       "      <td>...</td>\n",
       "    </tr>\n",
       "    <tr>\n",
       "      <th>299995</th>\n",
       "      <td>945535</td>\n",
       "      <td>2017-04-26 03:12:14</td>\n",
       "      <td>2017-04-26 03:41:19</td>\n",
       "      <td>1745.528</td>\n",
       "      <td>Lincoln Memorial</td>\n",
       "      <td>Jefferson Dr &amp; 14th St SW</td>\n",
       "      <td>Customer</td>\n",
       "    </tr>\n",
       "    <tr>\n",
       "      <th>299996</th>\n",
       "      <td>1495781</td>\n",
       "      <td>2017-06-11 09:48:52</td>\n",
       "      <td>2017-06-11 10:22:31</td>\n",
       "      <td>2018.450</td>\n",
       "      <td>Key Blvd &amp; N Quinn St</td>\n",
       "      <td>5th &amp; K St NW</td>\n",
       "      <td>Subscriber</td>\n",
       "    </tr>\n",
       "    <tr>\n",
       "      <th>299997</th>\n",
       "      <td>12860</td>\n",
       "      <td>2017-01-04 14:33:00</td>\n",
       "      <td>2017-01-04 14:43:00</td>\n",
       "      <td>583.897</td>\n",
       "      <td>17th &amp; K St NW / Farragut Square</td>\n",
       "      <td>7th &amp; F St NW/Portrait Gallery</td>\n",
       "      <td>Subscriber</td>\n",
       "    </tr>\n",
       "    <tr>\n",
       "      <th>299998</th>\n",
       "      <td>977621</td>\n",
       "      <td>2017-04-28 07:17:47</td>\n",
       "      <td>2017-04-28 07:56:31</td>\n",
       "      <td>2324.170</td>\n",
       "      <td>Jefferson Dr &amp; 14th St SW</td>\n",
       "      <td>Washington &amp; Independence Ave SW/HHS</td>\n",
       "      <td>Customer</td>\n",
       "    </tr>\n",
       "    <tr>\n",
       "      <th>299999</th>\n",
       "      <td>1553359</td>\n",
       "      <td>2017-06-16 04:08:16</td>\n",
       "      <td>2017-06-16 04:29:38</td>\n",
       "      <td>1281.459</td>\n",
       "      <td>10th &amp; Monroe St NE</td>\n",
       "      <td>3rd &amp; H St NW</td>\n",
       "      <td>Customer</td>\n",
       "    </tr>\n",
       "  </tbody>\n",
       "</table>\n",
       "<p>300000 rows × 7 columns</p>\n",
       "</div>"
      ],
      "text/plain": [
       "        Unnamed: 0           Start Time             End Time  Trip Duration  \\\n",
       "0          1621326  2017-06-21 08:36:34  2017-06-21 08:44:43        489.066   \n",
       "1           482740  2017-03-11 10:40:00  2017-03-11 10:46:00        402.549   \n",
       "2          1330037  2017-05-30 01:02:59  2017-05-30 01:13:37        637.251   \n",
       "3           665458  2017-04-02 07:48:35  2017-04-02 08:19:03       1827.341   \n",
       "4          1481135  2017-06-10 08:36:28  2017-06-10 09:02:17       1549.427   \n",
       "...            ...                  ...                  ...            ...   \n",
       "299995      945535  2017-04-26 03:12:14  2017-04-26 03:41:19       1745.528   \n",
       "299996     1495781  2017-06-11 09:48:52  2017-06-11 10:22:31       2018.450   \n",
       "299997       12860  2017-01-04 14:33:00  2017-01-04 14:43:00        583.897   \n",
       "299998      977621  2017-04-28 07:17:47  2017-04-28 07:56:31       2324.170   \n",
       "299999     1553359  2017-06-16 04:08:16  2017-06-16 04:29:38       1281.459   \n",
       "\n",
       "                                      Start Station  \\\n",
       "0                              14th & Belmont St NW   \n",
       "1                        Yuma St & Tenley Circle NW   \n",
       "2                    17th St & Massachusetts Ave NW   \n",
       "3                  Constitution Ave & 2nd St NW/DOL   \n",
       "4       Henry Bacon Dr & Lincoln Memorial Circle NW   \n",
       "...                                             ...   \n",
       "299995                             Lincoln Memorial   \n",
       "299996                        Key Blvd & N Quinn St   \n",
       "299997             17th & K St NW / Farragut Square   \n",
       "299998                    Jefferson Dr & 14th St SW   \n",
       "299999                          10th & Monroe St NE   \n",
       "\n",
       "                                 End Station   User Type  \n",
       "0                             15th & K St NW  Subscriber  \n",
       "1               Connecticut Ave & Yuma St NW  Subscriber  \n",
       "2                              5th & K St NW  Subscriber  \n",
       "3                 M St & Pennsylvania Ave NW    Customer  \n",
       "4                      Maine Ave & 7th St SW  Subscriber  \n",
       "...                                      ...         ...  \n",
       "299995             Jefferson Dr & 14th St SW    Customer  \n",
       "299996                         5th & K St NW  Subscriber  \n",
       "299997        7th & F St NW/Portrait Gallery  Subscriber  \n",
       "299998  Washington & Independence Ave SW/HHS    Customer  \n",
       "299999                         3rd & H St NW    Customer  \n",
       "\n",
       "[300000 rows x 7 columns]"
      ]
     },
     "execution_count": 38,
     "metadata": {},
     "output_type": "execute_result"
    }
   ],
   "source": [
    "was= pd.read_csv('F:\\\\udacity\\\\project 1\\\\washington.csv')\n",
    "was"
   ]
  },
  {
   "cell_type": "markdown",
   "id": "af9503ca",
   "metadata": {},
   "source": [
    "# Popular times of travel\n"
   ]
  },
  {
   "cell_type": "code",
   "execution_count": 7,
   "id": "4b658ad6",
   "metadata": {},
   "outputs": [],
   "source": [
    "st=pd.concat ([nyc['Start Time'] , was['Start Time'],chi['Start Time']])"
   ]
  },
  {
   "cell_type": "code",
   "execution_count": 8,
   "id": "100790df",
   "metadata": {},
   "outputs": [
    {
     "data": {
      "text/plain": [
       "0         2017-06-11 14:55:05\n",
       "1         2017-05-11 15:30:11\n",
       "2         2017-03-29 13:26:26\n",
       "3         2017-05-08 19:47:18\n",
       "4         2017-06-21 07:49:16\n",
       "                 ...         \n",
       "299995    2017-01-21 13:18:00\n",
       "299996    2017-04-28 19:32:19\n",
       "299997    2017-02-12 09:59:01\n",
       "299998    2017-04-16 17:07:15\n",
       "299999    2017-05-30 12:38:28\n",
       "Name: Start Time, Length: 900000, dtype: object"
      ]
     },
     "execution_count": 8,
     "metadata": {},
     "output_type": "execute_result"
    }
   ],
   "source": [
    "st"
   ]
  },
  {
   "cell_type": "code",
   "execution_count": 9,
   "id": "9ed34301",
   "metadata": {},
   "outputs": [],
   "source": [
    "st=pd.to_datetime(st)"
   ]
  },
  {
   "cell_type": "code",
   "execution_count": 10,
   "id": "1d608d7c",
   "metadata": {},
   "outputs": [],
   "source": [
    "#most common day of week\n",
    "days= st.dt.day_name()"
   ]
  },
  {
   "cell_type": "code",
   "execution_count": 11,
   "id": "a9537fb7",
   "metadata": {},
   "outputs": [
    {
     "name": "stdout",
     "output_type": "stream",
     "text": [
      "0     most common day of week = Wednesday\n",
      "dtype: object\n"
     ]
    }
   ],
   "source": [
    "print(' most common day of week = '+ days.mode())"
   ]
  },
  {
   "cell_type": "code",
   "execution_count": 12,
   "id": "ab1c02c1",
   "metadata": {},
   "outputs": [],
   "source": [
    "#most common month\n",
    "month = st.dt.month_name()"
   ]
  },
  {
   "cell_type": "code",
   "execution_count": 13,
   "id": "a0eac583",
   "metadata": {},
   "outputs": [
    {
     "name": "stdout",
     "output_type": "stream",
     "text": [
      "0     most common month = June\n",
      "dtype: object\n"
     ]
    }
   ],
   "source": [
    "print(' most common month = '+ month.mode())\n"
   ]
  },
  {
   "cell_type": "code",
   "execution_count": 14,
   "id": "3a7b2f86",
   "metadata": {},
   "outputs": [],
   "source": [
    "#most common hour\n",
    "hour = st.dt.hour"
   ]
  },
  {
   "cell_type": "code",
   "execution_count": 15,
   "id": "51275252",
   "metadata": {},
   "outputs": [
    {
     "name": "stdout",
     "output_type": "stream",
     "text": [
      "most common hour of day = 0    8\n",
      "dtype: int64\n"
     ]
    }
   ],
   "source": [
    "print('most common hour of day = ' +  str( hour.mode() ))"
   ]
  },
  {
   "cell_type": "markdown",
   "id": "0c4ed8aa",
   "metadata": {},
   "source": [
    "# Popular stations and trip \n"
   ]
  },
  {
   "cell_type": "code",
   "execution_count": 16,
   "id": "376b7e3b",
   "metadata": {},
   "outputs": [
    {
     "data": {
      "text/plain": [
       "0               Suffolk St & Stanton St\n",
       "1               Lexington Ave & E 63 St\n",
       "2                     1 Pl & Clinton St\n",
       "3                 Barrow St & Hudson St\n",
       "4                       1 Ave & E 44 St\n",
       "                      ...              \n",
       "299995          Orleans St & Elm St (*)\n",
       "299996       Ashland Ave & Blackhawk St\n",
       "299997    Ravenswood Ave & Lawrence Ave\n",
       "299998        Sheffield Ave & Willow St\n",
       "299999        Wacker Dr & Washington St\n",
       "Name: Start Station, Length: 900000, dtype: object"
      ]
     },
     "execution_count": 16,
     "metadata": {},
     "output_type": "execute_result"
    }
   ],
   "source": [
    "#star station\n",
    "ss=pd.concat([nyc['Start Station'],was['Start Station'],chi['Start Station']])\n",
    "ss"
   ]
  },
  {
   "cell_type": "code",
   "execution_count": 17,
   "id": "68e3a616",
   "metadata": {},
   "outputs": [
    {
     "name": "stdout",
     "output_type": "stream",
     "text": [
      "0    most common start station = Streeter Dr & Gran...\n",
      "dtype: object\n"
     ]
    }
   ],
   "source": [
    "# most common start station\n",
    "print('most common start station = '+ ss.mode()  )"
   ]
  },
  {
   "cell_type": "code",
   "execution_count": 18,
   "id": "d3dbdf9d",
   "metadata": {},
   "outputs": [
    {
     "data": {
      "text/plain": [
       "0               W Broadway & Spring St\n",
       "1                      1 Ave & E 78 St\n",
       "2                 Henry St & Degraw St\n",
       "3                      W 20 St & 8 Ave\n",
       "4                      E 53 St & 3 Ave\n",
       "                      ...             \n",
       "299995     Sheffield Ave & Webster Ave\n",
       "299996               Clark St & Elm St\n",
       "299997    Stockton Dr & Wrightwood Ave\n",
       "299998          Clark St & Chicago Ave\n",
       "299999         Damen Ave & Division St\n",
       "Name: End Station, Length: 900000, dtype: object"
      ]
     },
     "execution_count": 18,
     "metadata": {},
     "output_type": "execute_result"
    }
   ],
   "source": [
    "#end station\n",
    "es=pd.concat([nyc['End Station'],was['End Station'],chi['End Station']])\n",
    "es"
   ]
  },
  {
   "cell_type": "code",
   "execution_count": null,
   "id": "a00fe847",
   "metadata": {},
   "outputs": [],
   "source": []
  },
  {
   "cell_type": "code",
   "execution_count": 19,
   "id": "515d95ad",
   "metadata": {},
   "outputs": [
    {
     "name": "stdout",
     "output_type": "stream",
     "text": [
      "0    most common End station = Streeter Dr & Grand Ave\n",
      "dtype: object\n"
     ]
    }
   ],
   "source": [
    "# most common end station\n",
    "print('most common End station = '+ es.mode()  )"
   ]
  },
  {
   "cell_type": "code",
   "execution_count": 20,
   "id": "b7a34215",
   "metadata": {},
   "outputs": [],
   "source": [
    "trip=pd.DataFrame({'start':ss , 'end':es})"
   ]
  },
  {
   "cell_type": "code",
   "execution_count": 21,
   "id": "d1d6aac6",
   "metadata": {},
   "outputs": [
    {
     "data": {
      "text/html": [
       "<div>\n",
       "<style scoped>\n",
       "    .dataframe tbody tr th:only-of-type {\n",
       "        vertical-align: middle;\n",
       "    }\n",
       "\n",
       "    .dataframe tbody tr th {\n",
       "        vertical-align: top;\n",
       "    }\n",
       "\n",
       "    .dataframe thead th {\n",
       "        text-align: right;\n",
       "    }\n",
       "</style>\n",
       "<table border=\"1\" class=\"dataframe\">\n",
       "  <thead>\n",
       "    <tr style=\"text-align: right;\">\n",
       "      <th></th>\n",
       "      <th>start</th>\n",
       "      <th>end</th>\n",
       "    </tr>\n",
       "  </thead>\n",
       "  <tbody>\n",
       "    <tr>\n",
       "      <th>0</th>\n",
       "      <td>Suffolk St &amp; Stanton St</td>\n",
       "      <td>W Broadway &amp; Spring St</td>\n",
       "    </tr>\n",
       "    <tr>\n",
       "      <th>1</th>\n",
       "      <td>Lexington Ave &amp; E 63 St</td>\n",
       "      <td>1 Ave &amp; E 78 St</td>\n",
       "    </tr>\n",
       "    <tr>\n",
       "      <th>2</th>\n",
       "      <td>1 Pl &amp; Clinton St</td>\n",
       "      <td>Henry St &amp; Degraw St</td>\n",
       "    </tr>\n",
       "    <tr>\n",
       "      <th>3</th>\n",
       "      <td>Barrow St &amp; Hudson St</td>\n",
       "      <td>W 20 St &amp; 8 Ave</td>\n",
       "    </tr>\n",
       "    <tr>\n",
       "      <th>4</th>\n",
       "      <td>1 Ave &amp; E 44 St</td>\n",
       "      <td>E 53 St &amp; 3 Ave</td>\n",
       "    </tr>\n",
       "    <tr>\n",
       "      <th>...</th>\n",
       "      <td>...</td>\n",
       "      <td>...</td>\n",
       "    </tr>\n",
       "    <tr>\n",
       "      <th>299995</th>\n",
       "      <td>Orleans St &amp; Elm St (*)</td>\n",
       "      <td>Sheffield Ave &amp; Webster Ave</td>\n",
       "    </tr>\n",
       "    <tr>\n",
       "      <th>299996</th>\n",
       "      <td>Ashland Ave &amp; Blackhawk St</td>\n",
       "      <td>Clark St &amp; Elm St</td>\n",
       "    </tr>\n",
       "    <tr>\n",
       "      <th>299997</th>\n",
       "      <td>Ravenswood Ave &amp; Lawrence Ave</td>\n",
       "      <td>Stockton Dr &amp; Wrightwood Ave</td>\n",
       "    </tr>\n",
       "    <tr>\n",
       "      <th>299998</th>\n",
       "      <td>Sheffield Ave &amp; Willow St</td>\n",
       "      <td>Clark St &amp; Chicago Ave</td>\n",
       "    </tr>\n",
       "    <tr>\n",
       "      <th>299999</th>\n",
       "      <td>Wacker Dr &amp; Washington St</td>\n",
       "      <td>Damen Ave &amp; Division St</td>\n",
       "    </tr>\n",
       "  </tbody>\n",
       "</table>\n",
       "<p>900000 rows × 2 columns</p>\n",
       "</div>"
      ],
      "text/plain": [
       "                                start                           end\n",
       "0             Suffolk St & Stanton St        W Broadway & Spring St\n",
       "1             Lexington Ave & E 63 St               1 Ave & E 78 St\n",
       "2                   1 Pl & Clinton St          Henry St & Degraw St\n",
       "3               Barrow St & Hudson St               W 20 St & 8 Ave\n",
       "4                     1 Ave & E 44 St               E 53 St & 3 Ave\n",
       "...                               ...                           ...\n",
       "299995        Orleans St & Elm St (*)   Sheffield Ave & Webster Ave\n",
       "299996     Ashland Ave & Blackhawk St             Clark St & Elm St\n",
       "299997  Ravenswood Ave & Lawrence Ave  Stockton Dr & Wrightwood Ave\n",
       "299998      Sheffield Ave & Willow St        Clark St & Chicago Ave\n",
       "299999      Wacker Dr & Washington St       Damen Ave & Division St\n",
       "\n",
       "[900000 rows x 2 columns]"
      ]
     },
     "execution_count": 21,
     "metadata": {},
     "output_type": "execute_result"
    }
   ],
   "source": [
    "trip"
   ]
  },
  {
   "cell_type": "code",
   "execution_count": 22,
   "id": "30fce731",
   "metadata": {},
   "outputs": [
    {
     "data": {
      "text/plain": [
       "start                                                  end                                                  \n",
       "Lake Shore Dr & Monroe St                              Streeter Dr & Grand Ave                                  854\n",
       "Streeter Dr & Grand Ave                                Streeter Dr & Grand Ave                                  712\n",
       "Jefferson Dr & 14th St SW                              Jefferson Dr & 14th St SW                                673\n",
       "Smithsonian-National Mall / Jefferson Dr & 12th St SW  Smithsonian-National Mall / Jefferson Dr & 12th St SW    585\n",
       "Streeter Dr & Grand Ave                                Theater on the Lake                                      561\n",
       "                                                                                                               ... \n",
       "C & O Canal & Wisconsin Ave NW                         USDA / 12th & Independence Ave SW                          1\n",
       "                                                       Washington Blvd & 10th St N                                1\n",
       "                                                       Washington Blvd & Walter Reed Dr                           1\n",
       "                                                       Wilson Blvd & Franklin Rd                                  1\n",
       "Morgan St & 31st St                                    Damen Ave & Grand Ave                                      1\n",
       "Length: 174511, dtype: int64"
      ]
     },
     "execution_count": 22,
     "metadata": {},
     "output_type": "execute_result"
    }
   ],
   "source": [
    "trip.value_counts()\n"
   ]
  },
  {
   "cell_type": "code",
   "execution_count": 23,
   "id": "4c369144",
   "metadata": {},
   "outputs": [
    {
     "name": "stdout",
     "output_type": "stream",
     "text": [
      "0    most common trip from start to  end =  Lake Sh...\n",
      "dtype: object\n"
     ]
    }
   ],
   "source": [
    "#most common trip from start to end\n",
    "t=ss + ' to  '+ es \n",
    "print('most common trip from start to  end =  ' + t.mode())"
   ]
  },
  {
   "cell_type": "markdown",
   "id": "da86f15e",
   "metadata": {},
   "source": [
    "# Trip duration \n"
   ]
  },
  {
   "cell_type": "code",
   "execution_count": 24,
   "id": "3a8f8ffa",
   "metadata": {},
   "outputs": [
    {
     "data": {
      "text/plain": [
       "0        2017-06-11 14:55:05\n",
       "1        2017-05-11 15:30:11\n",
       "2        2017-03-29 13:26:26\n",
       "3        2017-05-08 19:47:18\n",
       "4        2017-06-21 07:49:16\n",
       "                 ...        \n",
       "299995   2017-01-21 13:18:00\n",
       "299996   2017-04-28 19:32:19\n",
       "299997   2017-02-12 09:59:01\n",
       "299998   2017-04-16 17:07:15\n",
       "299999   2017-05-30 12:38:28\n",
       "Name: Start Time, Length: 900000, dtype: datetime64[ns]"
      ]
     },
     "execution_count": 24,
     "metadata": {},
     "output_type": "execute_result"
    }
   ],
   "source": [
    "#start time\n",
    "st"
   ]
  },
  {
   "cell_type": "code",
   "execution_count": 26,
   "id": "0921d3c0",
   "metadata": {},
   "outputs": [
    {
     "data": {
      "text/plain": [
       "0         2017-06-11 15:08:21\n",
       "1         2017-05-11 15:41:43\n",
       "2         2017-03-29 13:48:31\n",
       "3         2017-05-08 19:59:01\n",
       "4         2017-06-21 07:54:46\n",
       "                 ...         \n",
       "299995    2017-01-21 13:27:50\n",
       "299996    2017-04-28 19:51:18\n",
       "299997    2017-02-12 10:21:49\n",
       "299998    2017-04-16 17:19:00\n",
       "299999    2017-05-30 12:55:36\n",
       "Name: End Time, Length: 900000, dtype: object"
      ]
     },
     "execution_count": 26,
     "metadata": {},
     "output_type": "execute_result"
    }
   ],
   "source": [
    "#end time\n",
    "et=pd.concat ([nyc['End Time'] , was['End Time'],chi['End Time']])\n",
    "et"
   ]
  },
  {
   "cell_type": "code",
   "execution_count": 27,
   "id": "32781e58",
   "metadata": {},
   "outputs": [
    {
     "data": {
      "text/plain": [
       "0        2017-06-11 15:08:21\n",
       "1        2017-05-11 15:41:43\n",
       "2        2017-03-29 13:48:31\n",
       "3        2017-05-08 19:59:01\n",
       "4        2017-06-21 07:54:46\n",
       "                 ...        \n",
       "299995   2017-01-21 13:27:50\n",
       "299996   2017-04-28 19:51:18\n",
       "299997   2017-02-12 10:21:49\n",
       "299998   2017-04-16 17:19:00\n",
       "299999   2017-05-30 12:55:36\n",
       "Name: End Time, Length: 900000, dtype: datetime64[ns]"
      ]
     },
     "execution_count": 27,
     "metadata": {},
     "output_type": "execute_result"
    }
   ],
   "source": [
    "et=pd.to_datetime(et)\n",
    "et"
   ]
  },
  {
   "cell_type": "code",
   "execution_count": 28,
   "id": "a62e2f39",
   "metadata": {},
   "outputs": [
    {
     "data": {
      "text/plain": [
       "0        0 days 00:13:16\n",
       "1        0 days 00:11:32\n",
       "2        0 days 00:22:05\n",
       "3        0 days 00:11:43\n",
       "4        0 days 00:05:30\n",
       "               ...      \n",
       "299995   0 days 00:09:50\n",
       "299996   0 days 00:18:59\n",
       "299997   0 days 00:22:48\n",
       "299998   0 days 00:11:45\n",
       "299999   0 days 00:17:08\n",
       "Length: 900000, dtype: timedelta64[ns]"
      ]
     },
     "execution_count": 28,
     "metadata": {},
     "output_type": "execute_result"
    }
   ],
   "source": [
    "total_time= et - st\n",
    "total_time"
   ]
  },
  {
   "cell_type": "code",
   "execution_count": 29,
   "id": "cd52637c",
   "metadata": {},
   "outputs": [
    {
     "name": "stdout",
     "output_type": "stream",
     "text": [
      "total travel time = 8963 days 16:49:11\n"
     ]
    }
   ],
   "source": [
    "#total travel time \n",
    "print('total travel time = ' + str(total_time.sum()) )"
   ]
  },
  {
   "cell_type": "code",
   "execution_count": 30,
   "id": "c9bd2a9a",
   "metadata": {},
   "outputs": [
    {
     "name": "stdout",
     "output_type": "stream",
     "text": [
      "average travel time = 0 days 00:14:20.515278888\n"
     ]
    }
   ],
   "source": [
    " #average travel time \n",
    "print('average travel time = '+ str(total_time.mean()))"
   ]
  },
  {
   "cell_type": "markdown",
   "id": "9046c9d9",
   "metadata": {},
   "source": [
    "# User info "
   ]
  },
  {
   "cell_type": "code",
   "execution_count": 31,
   "id": "539e04de",
   "metadata": {},
   "outputs": [
    {
     "data": {
      "text/plain": [
       "0         Subscriber\n",
       "1         Subscriber\n",
       "2         Subscriber\n",
       "3         Subscriber\n",
       "4         Subscriber\n",
       "             ...    \n",
       "299995    Subscriber\n",
       "299996      Customer\n",
       "299997    Subscriber\n",
       "299998      Customer\n",
       "299999    Subscriber\n",
       "Name: User Type, Length: 900000, dtype: object"
      ]
     },
     "execution_count": 31,
     "metadata": {},
     "output_type": "execute_result"
    }
   ],
   "source": [
    "user_type =pd.concat ([nyc['User Type'] , was['User Type'],chi['User Type']])\n",
    "user_type"
   ]
  },
  {
   "cell_type": "code",
   "execution_count": 34,
   "id": "a60f46e3",
   "metadata": {},
   "outputs": [
    {
     "name": "stdout",
     "output_type": "stream",
     "text": [
      "counts of each user type = Subscriber    728824\n",
      "Customer      170483\n",
      "Dependent          1\n",
      "Name: User Type, dtype: int64\n"
     ]
    }
   ],
   "source": [
    "#counts of each user type \n",
    "print('counts of each user type = ' + str(user_type.value_counts()) )"
   ]
  },
  {
   "cell_type": "code",
   "execution_count": 35,
   "id": "0573d1d1",
   "metadata": {},
   "outputs": [
    {
     "data": {
      "text/plain": [
       "0           Male\n",
       "1           Male\n",
       "2           Male\n",
       "3         Female\n",
       "4           Male\n",
       "           ...  \n",
       "299995      Male\n",
       "299996       NaN\n",
       "299997    Female\n",
       "299998       NaN\n",
       "299999      Male\n",
       "Name: Gender, Length: 600000, dtype: object"
      ]
     },
     "execution_count": 35,
     "metadata": {},
     "output_type": "execute_result"
    }
   ],
   "source": [
    "gender = pd.concat ([nyc['Gender'] , chi['Gender']]) \n",
    "gender"
   ]
  },
  {
   "cell_type": "code",
   "execution_count": 36,
   "id": "1f02e2f8",
   "metadata": {},
   "outputs": [
    {
     "name": "stdout",
     "output_type": "stream",
     "text": [
      "counts of each gender = Male      385198\n",
      "Female    124541\n",
      "Name: Gender, dtype: int64\n"
     ]
    }
   ],
   "source": [
    "#counts of each gender \n",
    "print('counts of each gender = ' + str(gender.value_counts()) )\n"
   ]
  },
  {
   "cell_type": "code",
   "execution_count": 39,
   "id": "5b07c33e",
   "metadata": {},
   "outputs": [
    {
     "data": {
      "text/plain": [
       "0         1998.0\n",
       "1         1981.0\n",
       "2         1987.0\n",
       "3         1986.0\n",
       "4         1992.0\n",
       "           ...  \n",
       "299995    1965.0\n",
       "299996       NaN\n",
       "299997    1988.0\n",
       "299998       NaN\n",
       "299999    1984.0\n",
       "Name: Birth Year, Length: 600000, dtype: float64"
      ]
     },
     "execution_count": 39,
     "metadata": {},
     "output_type": "execute_result"
    }
   ],
   "source": [
    " birth_year = pd.concat ([nyc['Birth Year'] , chi['Birth Year']])\n",
    "birth_year"
   ]
  },
  {
   "cell_type": "code",
   "execution_count": 41,
   "id": "ffdb3b69",
   "metadata": {},
   "outputs": [
    {
     "data": {
      "text/plain": [
       "0         1998.0\n",
       "1         1981.0\n",
       "2         1987.0\n",
       "3         1986.0\n",
       "4         1992.0\n",
       "           ...  \n",
       "299992    1955.0\n",
       "299994    1988.0\n",
       "299995    1965.0\n",
       "299997    1988.0\n",
       "299999    1984.0\n",
       "Name: Birth Year, Length: 510761, dtype: float64"
      ]
     },
     "execution_count": 41,
     "metadata": {},
     "output_type": "execute_result"
    }
   ],
   "source": [
    "birth_year =birth_year.dropna()\n",
    "birth_year"
   ]
  },
  {
   "cell_type": "code",
   "execution_count": 42,
   "id": "812c092b",
   "metadata": {},
   "outputs": [
    {
     "name": "stdout",
     "output_type": "stream",
     "text": [
      "most common year of birth = 0    1989.0\n",
      "dtype: float64\n"
     ]
    }
   ],
   "source": [
    "#most common year of birth\n",
    "print('most common year of birth = ' + str(birth_year.mode()))"
   ]
  },
  {
   "cell_type": "code",
   "execution_count": 43,
   "id": "6aa11e14",
   "metadata": {},
   "outputs": [
    {
     "name": "stdout",
     "output_type": "stream",
     "text": [
      "  most recent year of birth = 2016.0\n"
     ]
    }
   ],
   "source": [
    "print('  most recent year of birth = ' + str(birth_year.max()))"
   ]
  },
  {
   "cell_type": "code",
   "execution_count": 44,
   "id": "34e89286",
   "metadata": {},
   "outputs": [
    {
     "name": "stdout",
     "output_type": "stream",
     "text": [
      " earliest year of birth = 1885.0\n"
     ]
    }
   ],
   "source": [
    "print(' earliest year of birth = ' + str(birth_year.min()))"
   ]
  },
  {
   "cell_type": "code",
   "execution_count": null,
   "id": "444adbc1",
   "metadata": {},
   "outputs": [],
   "source": []
  },
  {
   "cell_type": "code",
   "execution_count": null,
   "id": "262e2918",
   "metadata": {},
   "outputs": [],
   "source": []
  },
  {
   "cell_type": "code",
   "execution_count": null,
   "id": "e87c3d46",
   "metadata": {},
   "outputs": [],
   "source": []
  },
  {
   "cell_type": "code",
   "execution_count": null,
   "id": "657d668c",
   "metadata": {},
   "outputs": [],
   "source": []
  },
  {
   "cell_type": "code",
   "execution_count": null,
   "id": "c0eaea5b",
   "metadata": {},
   "outputs": [],
   "source": []
  },
  {
   "cell_type": "code",
   "execution_count": null,
   "id": "10d782b5",
   "metadata": {},
   "outputs": [],
   "source": []
  },
  {
   "cell_type": "code",
   "execution_count": null,
   "id": "c776d773",
   "metadata": {},
   "outputs": [],
   "source": []
  },
  {
   "cell_type": "code",
   "execution_count": null,
   "id": "77e423c5",
   "metadata": {},
   "outputs": [],
   "source": []
  },
  {
   "cell_type": "code",
   "execution_count": null,
   "id": "282c1ad1",
   "metadata": {},
   "outputs": [],
   "source": []
  },
  {
   "cell_type": "code",
   "execution_count": null,
   "id": "0f86b829",
   "metadata": {},
   "outputs": [],
   "source": []
  },
  {
   "cell_type": "code",
   "execution_count": null,
   "id": "34dfa520",
   "metadata": {},
   "outputs": [],
   "source": []
  },
  {
   "cell_type": "code",
   "execution_count": null,
   "id": "472c066e",
   "metadata": {},
   "outputs": [],
   "source": []
  },
  {
   "cell_type": "code",
   "execution_count": null,
   "id": "233a8f3e",
   "metadata": {},
   "outputs": [],
   "source": []
  },
  {
   "cell_type": "code",
   "execution_count": null,
   "id": "5a7c1c13",
   "metadata": {},
   "outputs": [],
   "source": []
  },
  {
   "cell_type": "code",
   "execution_count": null,
   "id": "20989fd7",
   "metadata": {},
   "outputs": [],
   "source": []
  },
  {
   "cell_type": "code",
   "execution_count": null,
   "id": "1c548515",
   "metadata": {},
   "outputs": [],
   "source": []
  },
  {
   "cell_type": "code",
   "execution_count": null,
   "id": "d4c71c37",
   "metadata": {},
   "outputs": [],
   "source": []
  },
  {
   "cell_type": "code",
   "execution_count": 3,
   "id": "7d32e666",
   "metadata": {},
   "outputs": [
    {
     "name": "stdout",
     "output_type": "stream",
     "text": [
      "60\n",
      "C\n"
     ]
    }
   ],
   "source": [
    "percentage = int(input())\n",
    "if percentage > 90:\n",
    "    print('A')\n",
    "elif 80 < percentage <= 90:\n",
    "    print('B')\n",
    "elif 60 <= percentage <= 80:\n",
    "    print('C')\n",
    "else:print('D')"
   ]
  },
  {
   "cell_type": "code",
   "execution_count": null,
   "id": "9d4532dd",
   "metadata": {},
   "outputs": [],
   "source": []
  },
  {
   "cell_type": "code",
   "execution_count": null,
   "id": "88a08e95",
   "metadata": {},
   "outputs": [],
   "source": []
  },
  {
   "cell_type": "code",
   "execution_count": null,
   "id": "1286b9a1",
   "metadata": {},
   "outputs": [],
   "source": []
  },
  {
   "cell_type": "code",
   "execution_count": null,
   "id": "01bb4eb8",
   "metadata": {},
   "outputs": [],
   "source": []
  },
  {
   "cell_type": "code",
   "execution_count": null,
   "id": "ab9d70fb",
   "metadata": {},
   "outputs": [],
   "source": []
  },
  {
   "cell_type": "code",
   "execution_count": null,
   "id": "d43289a8",
   "metadata": {},
   "outputs": [],
   "source": []
  }
 ],
 "metadata": {
  "kernelspec": {
   "display_name": "Python 3 (ipykernel)",
   "language": "python",
   "name": "python3"
  },
  "language_info": {
   "codemirror_mode": {
    "name": "ipython",
    "version": 3
   },
   "file_extension": ".py",
   "mimetype": "text/x-python",
   "name": "python",
   "nbconvert_exporter": "python",
   "pygments_lexer": "ipython3",
   "version": "3.9.7"
  },
  "varInspector": {
   "cols": {
    "lenName": 16,
    "lenType": 16,
    "lenVar": 40
   },
   "kernels_config": {
    "python": {
     "delete_cmd_postfix": "",
     "delete_cmd_prefix": "del ",
     "library": "var_list.py",
     "varRefreshCmd": "print(var_dic_list())"
    },
    "r": {
     "delete_cmd_postfix": ") ",
     "delete_cmd_prefix": "rm(",
     "library": "var_list.r",
     "varRefreshCmd": "cat(var_dic_list()) "
    }
   },
   "types_to_exclude": [
    "module",
    "function",
    "builtin_function_or_method",
    "instance",
    "_Feature"
   ],
   "window_display": false
  }
 },
 "nbformat": 4,
 "nbformat_minor": 5
}
