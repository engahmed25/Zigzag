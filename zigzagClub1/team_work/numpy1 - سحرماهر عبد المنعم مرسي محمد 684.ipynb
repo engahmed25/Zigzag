{
 "cells": [
  {
   "cell_type": "markdown",
   "id": "bc89c4e1",
   "metadata": {
    "collapsed": true
   },
   "source": [
    "Numpy #2 || Creating Arrays بالعربي"
   ]
  },
  {
   "cell_type": "code",
   "execution_count": null,
   "id": "3f30d0f0",
   "metadata": {
    "collapsed": true
   },
   "outputs": [],
   "source": [
    "import numpy as np"
   ]
  },
  {
   "cell_type": "markdown",
   "id": "72b01188",
   "metadata": {},
   "source": [
    "## creating numpy array ##\n",
    "### from python lists ### "
   ]
  },
  {
   "cell_type": "code",
   "execution_count": null,
   "id": "b593d7f9",
   "metadata": {
    "collapsed": true
   },
   "outputs": [],
   "source": [
    "#intger array \n",
    "newarray = np.array([2,3,4,5,5])"
   ]
  },
  {
   "cell_type": "code",
   "execution_count": null,
   "id": "883dc9f1",
   "metadata": {
    "collapsed": true
   },
   "outputs": [],
   "source": [
    "newarray"
   ]
  },
  {
   "cell_type": "code",
   "execution_count": null,
   "id": "3bc34ce5",
   "metadata": {
    "collapsed": true
   },
   "outputs": [],
   "source": [
    "array([2.5,4,3,2])"
   ]
  },
  {
   "cell_type": "code",
   "execution_count": null,
   "id": "aac712f8",
   "metadata": {
    "collapsed": true
   },
   "outputs": [],
   "source": [
    "np.array([2,3,4,5,5], dtype ='float32')"
   ]
  },
  {
   "cell_type": "markdown",
   "id": "933e78fc",
   "metadata": {},
   "source": [
    "### from scratch ###"
   ]
  },
  {
   "cell_type": "code",
   "execution_count": null,
   "id": "39f6ea1f",
   "metadata": {
    "collapsed": true
   },
   "outputs": [],
   "source": [
    "np.zeros(10, dtype=int)"
   ]
  },
  {
   "cell_type": "code",
   "execution_count": null,
   "id": "4d681b96",
   "metadata": {
    "collapsed": true
   },
   "outputs": [],
   "source": [
    "np.ones((3,4), dtype=float)"
   ]
  },
  {
   "cell_type": "code",
   "execution_count": null,
   "id": "ffc6773e",
   "metadata": {
    "collapsed": true
   },
   "outputs": [],
   "source": [
    "np.full((3,5), 3.3)"
   ]
  },
  {
   "cell_type": "code",
   "execution_count": null,
   "id": "5f872ae0",
   "metadata": {
    "collapsed": true
   },
   "outputs": [],
   "source": [
    "np.range(0,10,2)  "
   ]
  },
  {
   "cell_type": "code",
   "execution_count": null,
   "id": "07c22b97",
   "metadata": {
    "collapsed": true
   },
   "outputs": [],
   "source": [
    "   np.random.random((3,3))"
   ]
  },
  {
   "cell_type": "code",
   "execution_count": null,
   "id": "616ad08f",
   "metadata": {
    "collapsed": true
   },
   "outputs": [],
   "source": [
    "#craet a 3*3 normal array of normally distributed random values\n",
    "#with mean 0 and standard deviation 1 \n",
    "np.random.normal(0, 1, (3, 3))"
   ]
  },
  {
   "cell_type": "code",
   "execution_count": null,
   "id": "f16c9085",
   "metadata": {
    "collapsed": true
   },
   "outputs": [],
   "source": [
    "np.random.randint(50, 100, (3, 3))"
   ]
  },
  {
   "cell_type": "code",
   "execution_count": null,
   "id": "98cc114d",
   "metadata": {
    "collapsed": true
   },
   "outputs": [],
   "source": [
    "np.eye(3) #==aray 3x3"
   ]
  },
  {
   "cell_type": "code",
   "execution_count": null,
   "id": "c3665048",
   "metadata": {
    "collapsed": true
   },
   "outputs": [],
   "source": [
    "np.empty((3, 5))"
   ]
  },
  {
   "cell_type": "markdown",
   "id": "a8c530cb",
   "metadata": {},
   "source": [
    "# Numpy #3 || Array Attributes & Array Indexing بالعربي #"
   ]
  },
  {
   "cell_type": "markdown",
   "id": "689ec994",
   "metadata": {},
   "source": [
    "### numpy array attributes###"
   ]
  },
  {
   "cell_type": "code",
   "execution_count": null,
   "id": "5727995b",
   "metadata": {
    "collapsed": true
   },
   "outputs": [],
   "source": [
    "x = np.zeros((3,4,5))"
   ]
  },
  {
   "cell_type": "code",
   "execution_count": null,
   "id": "f6dbf5dd",
   "metadata": {
    "collapsed": true
   },
   "outputs": [],
   "source": [
    "x"
   ]
  },
  {
   "cell_type": "code",
   "execution_count": null,
   "id": "2348fa44",
   "metadata": {
    "collapsed": true
   },
   "outputs": [],
   "source": [
    "print(x.ndim)"
   ]
  },
  {
   "cell_type": "code",
   "execution_count": null,
   "id": "69de4f1b",
   "metadata": {
    "collapsed": true
   },
   "outputs": [],
   "source": [
    "print(x.shape)"
   ]
  },
  {
   "cell_type": "code",
   "execution_count": null,
   "id": "ca09bedc",
   "metadata": {
    "collapsed": true
   },
   "outputs": [],
   "source": [
    "print(x.size)"
   ]
  },
  {
   "cell_type": "code",
   "execution_count": null,
   "id": "6bec4e64",
   "metadata": {
    "collapsed": true
   },
   "outputs": [],
   "source": [
    "print(x.dtype)"
   ]
  },
  {
   "cell_type": "markdown",
   "id": "e8080976",
   "metadata": {},
   "source": [
    "# Array indexing # "
   ]
  },
  {
   "cell_type": "code",
   "execution_count": null,
   "id": "7566d250",
   "metadata": {
    "collapsed": true
   },
   "outputs": [],
   "source": [
    "x1=np.array([2,3,5,6,])"
   ]
  },
  {
   "cell_type": "code",
   "execution_count": null,
   "id": "48fc234f",
   "metadata": {
    "collapsed": true
   },
   "outputs": [],
   "source": [
    "x1[0]"
   ]
  },
  {
   "cell_type": "code",
   "execution_count": null,
   "id": "5d5bd54c",
   "metadata": {
    "collapsed": true
   },
   "outputs": [],
   "source": [
    "x1[-1]"
   ]
  },
  {
   "cell_type": "code",
   "execution_count": null,
   "id": "96ed9631",
   "metadata": {
    "collapsed": true
   },
   "outputs": [],
   "source": [
    "x2=np.array([[2,2,2],[3,3,3],[5,5,5]])"
   ]
  },
  {
   "cell_type": "code",
   "execution_count": null,
   "id": "f7052271",
   "metadata": {
    "collapsed": true
   },
   "outputs": [],
   "source": [
    "x2[0,0]"
   ]
  },
  {
   "cell_type": "code",
   "execution_count": null,
   "id": "fcbcca98",
   "metadata": {
    "collapsed": true
   },
   "outputs": [],
   "source": [
    "x2[2,-1]"
   ]
  },
  {
   "cell_type": "code",
   "execution_count": null,
   "id": "90a3fac3",
   "metadata": {
    "collapsed": true
   },
   "outputs": [],
   "source": [
    "x2[1,1]=6"
   ]
  },
  {
   "cell_type": "markdown",
   "id": "5142cc6e",
   "metadata": {},
   "source": [
    "# Numpy #4 || Slicing in 1D Arrays بالعربي #"
   ]
  },
  {
   "cell_type": "markdown",
   "id": "591099ad",
   "metadata": {},
   "source": [
    "## array slicing : accessing subarrays ##"
   ]
  },
  {
   "cell_type": "markdown",
   "id": "4399568a",
   "metadata": {},
   "source": [
    "# 1-D sub #"
   ]
  },
  {
   "cell_type": "code",
   "execution_count": null,
   "id": "b7839792",
   "metadata": {
    "collapsed": true
   },
   "outputs": [],
   "source": [
    "b = nb.arange(10)"
   ]
  },
  {
   "cell_type": "code",
   "execution_count": null,
   "id": "293e58df",
   "metadata": {
    "collapsed": true
   },
   "outputs": [],
   "source": [
    "b[1:5] #5-1=4 "
   ]
  },
  {
   "cell_type": "code",
   "execution_count": null,
   "id": "0c1e034e",
   "metadata": {
    "collapsed": true
   },
   "outputs": [],
   "source": [
    "n= np.random.randimt(2,20,10)"
   ]
  },
  {
   "cell_type": "code",
   "execution_count": null,
   "id": "d8464725",
   "metadata": {
    "collapsed": true
   },
   "outputs": [],
   "source": [
    "n[:5]"
   ]
  },
  {
   "cell_type": "code",
   "execution_count": null,
   "id": "72435770",
   "metadata": {
    "collapsed": true
   },
   "outputs": [],
   "source": [
    "n[5:]"
   ]
  },
  {
   "cell_type": "code",
   "execution_count": null,
   "id": "b8499f25",
   "metadata": {
    "collapsed": true
   },
   "outputs": [],
   "source": [
    "n[::3] #every other element"
   ]
  },
  {
   "cell_type": "code",
   "execution_count": null,
   "id": "dc355fa6",
   "metadata": {
    "collapsed": true
   },
   "outputs": [],
   "source": [
    "n[1::2] #every other element , starting from index 1"
   ]
  },
  {
   "cell_type": "code",
   "execution_count": null,
   "id": "3d3be51c",
   "metadata": {
    "collapsed": true
   },
   "outputs": [],
   "source": [
    "n[::-1] #all element rversed"
   ]
  },
  {
   "cell_type": "code",
   "execution_count": null,
   "id": "d1354dee",
   "metadata": {
    "collapsed": true
   },
   "outputs": [],
   "source": [
    "n[5::-2] #reversed every other from index 5"
   ]
  },
  {
   "cell_type": "markdown",
   "id": "c07e2f00",
   "metadata": {},
   "source": [
    "# Numpy #5 || Slicing in Multi-dimensional Arrays بالعربي #"
   ]
  },
  {
   "cell_type": "markdown",
   "id": "a118ce17",
   "metadata": {},
   "source": [
    "## Multi-dimensional SubArrays ##"
   ]
  },
  {
   "cell_type": "code",
   "execution_count": null,
   "id": "a67a865d",
   "metadata": {
    "collapsed": true
   },
   "outputs": [],
   "source": [
    "x = np.array([[2,2,2],[4,3,4],[2,1,4]])"
   ]
  },
  {
   "cell_type": "code",
   "execution_count": null,
   "id": "fb531e18",
   "metadata": {
    "collapsed": true
   },
   "outputs": [],
   "source": [
    "x[0:2, 1:2]"
   ]
  },
  {
   "cell_type": "code",
   "execution_count": null,
   "id": "011e2f3f",
   "metadata": {
    "collapsed": true
   },
   "outputs": [],
   "source": [
    "x[:1, :2]"
   ]
  },
  {
   "cell_type": "code",
   "execution_count": null,
   "id": "5107d195",
   "metadata": {
    "collapsed": true
   },
   "outputs": [],
   "source": [
    "x[:1, ::2]"
   ]
  },
  {
   "cell_type": "code",
   "execution_count": null,
   "id": "55550071",
   "metadata": {
    "collapsed": true
   },
   "outputs": [],
   "source": [
    "x[1:, 2:]"
   ]
  },
  {
   "cell_type": "code",
   "execution_count": null,
   "id": "1b053c54",
   "metadata": {
    "collapsed": true
   },
   "outputs": [],
   "source": [
    "x[::-1, ::-1]"
   ]
  },
  {
   "cell_type": "code",
   "execution_count": null,
   "id": "a81a0c1c",
   "metadata": {
    "collapsed": true
   },
   "outputs": [],
   "source": [
    "x[0] #==x[0, :]"
   ]
  },
  {
   "cell_type": "code",
   "execution_count": null,
   "id": "150bf5c0",
   "metadata": {
    "collapsed": true
   },
   "outputs": [],
   "source": [
    "x[:, 0]"
   ]
  },
  {
   "cell_type": "markdown",
   "id": "9af1453f",
   "metadata": {},
   "source": [
    "# Numpy #6 || Copying Arrays بالعربي #"
   ]
  },
  {
   "cell_type": "markdown",
   "id": "bc64fad2",
   "metadata": {},
   "source": [
    "## subarrays as no copy view ##"
   ]
  },
  {
   "cell_type": "code",
   "execution_count": null,
   "id": "87416787",
   "metadata": {
    "collapsed": true
   },
   "outputs": [],
   "source": [
    "x = np.array([[2,2,2],[4,3,4],[2,1,4]])"
   ]
  },
  {
   "cell_type": "code",
   "execution_count": null,
   "id": "c655fc3d",
   "metadata": {
    "collapsed": true
   },
   "outputs": [],
   "source": [
    "xp = x[0:2, 1:2]"
   ]
  },
  {
   "cell_type": "code",
   "execution_count": null,
   "id": "f6bad93e",
   "metadata": {
    "collapsed": true
   },
   "outputs": [],
   "source": [
    "x[1, 1]=99"
   ]
  },
  {
   "cell_type": "code",
   "execution_count": null,
   "id": "0d26b938",
   "metadata": {
    "collapsed": true
   },
   "outputs": [],
   "source": [
    "xp"
   ]
  },
  {
   "cell_type": "markdown",
   "id": "d421a390",
   "metadata": {},
   "source": [
    "## creating copies of arrays ##"
   ]
  },
  {
   "cell_type": "code",
   "execution_count": null,
   "id": "4850057f",
   "metadata": {
    "collapsed": true
   },
   "outputs": [],
   "source": [
    "x_sub_copy = x[:1, :1].copy()"
   ]
  },
  {
   "cell_type": "code",
   "execution_count": null,
   "id": "3ce334ba",
   "metadata": {
    "collapsed": true
   },
   "outputs": [],
   "source": [
    "x_sub_copy[0, 0]=66\n",
    "x_sub_copy\n",
    "x\n"
   ]
  },
  {
   "cell_type": "markdown",
   "id": "5d8f2188",
   "metadata": {},
   "source": [
    "# Numpy #7 || Reshape Arrays بالعربي #"
   ]
  },
  {
   "cell_type": "markdown",
   "id": "f3dab5e3",
   "metadata": {},
   "source": [
    "## reshaping of arrays ##"
   ]
  },
  {
   "cell_type": "code",
   "execution_count": null,
   "id": "52e30a97",
   "metadata": {
    "collapsed": true
   },
   "outputs": [],
   "source": [
    "g= np.arange(1, 10)"
   ]
  },
  {
   "cell_type": "code",
   "execution_count": null,
   "id": "2217cf1f",
   "metadata": {
    "collapsed": true
   },
   "outputs": [],
   "source": [
    "g= g.reshape((3, 3))\n",
    "print(g)"
   ]
  },
  {
   "cell_type": "code",
   "execution_count": null,
   "id": "7c6bfdcb",
   "metadata": {
    "collapsed": true
   },
   "outputs": [],
   "source": [
    "g[np.newaxis, :].shape #row vector"
   ]
  },
  {
   "cell_type": "code",
   "execution_count": null,
   "id": "b6e575f6",
   "metadata": {
    "collapsed": true
   },
   "outputs": [],
   "source": [
    "g[: np.newaxis].shape # coloumn vector"
   ]
  },
  {
   "cell_type": "code",
   "execution_count": null,
   "id": "a1f30acd",
   "metadata": {
    "collapsed": true
   },
   "outputs": [],
   "source": [
    "g.reshape(3,1,-1)"
   ]
  },
  {
   "cell_type": "markdown",
   "id": "f9619fa6",
   "metadata": {},
   "source": [
    "# Numpy #8 || Concatenate Arrays بالعربي #"
   ]
  },
  {
   "cell_type": "code",
   "execution_count": null,
   "id": "7c9f2d01",
   "metadata": {
    "collapsed": true
   },
   "outputs": [],
   "source": [
    "x=np.array([2,1,3])\n",
    "z=np.array([5,4,5])\n",
    "np.concatenate((x, z))"
   ]
  },
  {
   "cell_type": "code",
   "execution_count": null,
   "id": "63c9b40f",
   "metadata": {
    "collapsed": true
   },
   "outputs": [],
   "source": [
    "v=[2,2,2]\n",
    "np.concatenate(([x, z, v]))"
   ]
  },
  {
   "cell_type": "code",
   "execution_count": null,
   "id": "bdfa1cc5",
   "metadata": {
    "collapsed": true
   },
   "outputs": [],
   "source": [
    "#for 2d array\n",
    "x= np.full((2, 3),1)\n",
    "y=np.full((2,3),9)\n",
    "print(x)\n",
    "print()\n",
    "print(y)"
   ]
  },
  {
   "cell_type": "code",
   "execution_count": null,
   "id": "82565a1f",
   "metadata": {
    "collapsed": true
   },
   "outputs": [],
   "source": [
    "np.concatenate([x, y], axis=0) #row"
   ]
  },
  {
   "cell_type": "code",
   "execution_count": null,
   "id": "e450c231",
   "metadata": {
    "collapsed": true
   },
   "outputs": [],
   "source": [
    "np.concatenate([x, y], axis=1) #coloumns"
   ]
  },
  {
   "cell_type": "code",
   "execution_count": null,
   "id": "e5b4517b",
   "metadata": {
    "collapsed": true
   },
   "outputs": [],
   "source": [
    " x = np.array([1,2,3])\n",
    " grid = np.array([[2,1,3], [5,4,2]])\n",
    " "
   ]
  },
  {
   "cell_type": "code",
   "execution_count": null,
   "id": "7d590b0a",
   "metadata": {
    "collapsed": true
   },
   "outputs": [],
   "source": [
    "np.vstack([x, grid])  # هتعملهم concaterate مع ان ال x one d"
   ]
  },
  {
   "cell_type": "code",
   "execution_count": null,
   "id": "da6adff1",
   "metadata": {
    "collapsed": true
   },
   "outputs": [],
   "source": [
    "x.reshape((1, -1))  #x بقت 2D "
   ]
  },
  {
   "cell_type": "code",
   "execution_count": null,
   "id": "6bd170bd",
   "metadata": {
    "collapsed": true
   },
   "outputs": [],
   "source": [
    "np.concatenate([x, grid], axis=0)"
   ]
  },
  {
   "cell_type": "code",
   "execution_count": null,
   "id": "2c2407e2",
   "metadata": {
    "collapsed": true
   },
   "outputs": [],
   "source": [
    "#horizontal stack the arrays\n",
    "z = np.array([[99], [99]])\n",
    "np.hstack([grid, z])"
   ]
  },
  {
   "cell_type": "markdown",
   "id": "e84b40dd",
   "metadata": {},
   "source": [
    "# Numpy #9 || Split Arrays بالعربي #"
   ]
  },
  {
   "cell_type": "code",
   "execution_count": null,
   "id": "b1f6b98c",
   "metadata": {
    "collapsed": true
   },
   "outputs": [],
   "source": [
    "x = [1,2,3,99,99,2,3,1]\n",
    "x1, x2, x3, x4 = np.split(x,[3,5,7])\n",
    "print(x1,x2,x3,x4)"
   ]
  },
  {
   "cell_type": "code",
   "execution_count": null,
   "id": "6cbd25c1",
   "metadata": {
    "collapsed": true
   },
   "outputs": [],
   "source": [
    "grid = np.arange(16).reshape((4, 4))\n",
    "grid"
   ]
  },
  {
   "cell_type": "code",
   "execution_count": null,
   "id": "d41f974e",
   "metadata": {
    "collapsed": true
   },
   "outputs": [],
   "source": [
    "upper, lower = np.vsplit(grid,[2])\n",
    "print(upper)\n",
    "print( )\n",
    "print(lower)"
   ]
  },
  {
   "cell_type": "code",
   "execution_count": null,
   "id": "15765d91",
   "metadata": {
    "collapsed": true
   },
   "outputs": [],
   "source": [
    "left , right, last = np.hsplit(grid,[1, 3]) \n",
    "print(left)\n",
    "print( )\n",
    "print( right)\n",
    "print( )\n",
    "print( last)"
   ]
  },
  {
   "cell_type": "markdown",
   "id": "bf9749fc",
   "metadata": {},
   "source": [
    "# Numpy #10 || Universal Functions (Ufuncs) - Part 1 بالعربي #"
   ]
  },
  {
   "cell_type": "code",
   "execution_count": null,
   "id": "ffa06b4b",
   "metadata": {
    "collapsed": true
   },
   "outputs": [],
   "source": [
    "values=np.random.randint(1, 10, size=5) \n",
    "values"
   ]
  },
  {
   "cell_type": "code",
   "execution_count": null,
   "id": "90653da5",
   "metadata": {
    "collapsed": true
   },
   "outputs": [],
   "source": [
    "np.random.seed(0)\n",
    "def compute_resperocal(values):\n",
    " output= np.empty(len(values))\n",
    " for i in range(len(values)):\n",
    "  output[i] = 1.0/values[i]\n",
    "  return output\n",
    "values=np.random.randint(1, 10, size=5) \n",
    " compute_resperocal(values)"
   ]
  },
  {
   "cell_type": "code",
   "execution_count": null,
   "id": "9c09a653",
   "metadata": {
    "collapsed": true
   },
   "outputs": [],
   "source": [
    "bigarray = np.random.randint(1, 10, size=1000000)\n",
    "%timeit compute_resperocal(bigarray)"
   ]
  },
  {
   "cell_type": "code",
   "execution_count": null,
   "id": "e6b98d3b",
   "metadata": {
    "collapsed": true
   },
   "outputs": [],
   "source": [
    "bigarray = np.random.randint(1, 10, size=1000000)\n",
    "%timeit 1./bigarray"
   ]
  },
  {
   "cell_type": "markdown",
   "id": "a5c62f39",
   "metadata": {},
   "source": [
    "# Numpy #11 || Universal Functions (Ufuncs) - Part 2 بالعربي #"
   ]
  },
  {
   "cell_type": "code",
   "execution_count": null,
   "id": "d7ba0755",
   "metadata": {
    "collapsed": true
   },
   "outputs": [],
   "source": [
    "x = np.array([2,1,3,4,5])\n",
    "abs(x)"
   ]
  },
  {
   "cell_type": "code",
   "execution_count": null,
   "id": "b3731dea",
   "metadata": {
    "collapsed": true
   },
   "outputs": [],
   "source": [
    "bigarray = np.random.randint(-10, 10, size=1000000)\n",
    "%timeit np.abs(bigarray)\n",
    "%timeit abs(bigarray)"
   ]
  },
  {
   "cell_type": "code",
   "execution_count": null,
   "id": "ad047c33",
   "metadata": {
    "collapsed": true
   },
   "outputs": [],
   "source": [
    "th = np.linspace(0, np.pi, 3)\n",
    "np.degrees(th)"
   ]
  },
  {
   "cell_type": "code",
   "execution_count": null,
   "id": "553c9873",
   "metadata": {
    "collapsed": true
   },
   "outputs": [],
   "source": [
    "print(np.sin(th))\n",
    "print(np.cos(th))\n",
    "print(np.tan(th))"
   ]
  },
  {
   "cell_type": "code",
   "execution_count": null,
   "id": "0d7b312d",
   "metadata": {
    "collapsed": true
   },
   "outputs": [],
   "source": [
    "x= [0, 1,2,3,5]\n",
    "print(np.arcsin(x))\n",
    "print(np.arccos(x))\n",
    "print(np.arctan(x))"
   ]
  },
  {
   "cell_type": "markdown",
   "id": "2fa61091",
   "metadata": {},
   "source": [
    "### exponents and logarithms ###"
   ]
  },
  {
   "cell_type": "code",
   "execution_count": null,
   "id": "c0092ec7",
   "metadata": {
    "collapsed": true
   },
   "outputs": [],
   "source": [
    "x = [1,2,3]\n",
    "print(np.exp(x))\n",
    "print(np.exp2(x))\n",
    "print(np.power(3, x))"
   ]
  },
  {
   "cell_type": "code",
   "execution_count": null,
   "id": "27c62f71",
   "metadata": {
    "collapsed": true
   },
   "outputs": [],
   "source": [
    "3**np.array(x)"
   ]
  },
  {
   "cell_type": "markdown",
   "id": "fab06423",
   "metadata": {},
   "source": [
    "### specialized ufuncs ###"
   ]
  },
  {
   "cell_type": "code",
   "execution_count": null,
   "id": "06131eb2",
   "metadata": {
    "collapsed": true
   },
   "outputs": [],
   "source": [
    "from scipy import special"
   ]
  },
  {
   "cell_type": "code",
   "execution_count": null,
   "id": "bcbe0998",
   "metadata": {
    "collapsed": true
   },
   "outputs": [],
   "source": [
    "x = [1,2,3]\n",
    "print(special.gamma(x))\n",
    "print(special.gammaln(x))\n",
    "print(special.beta(x, 2))"
   ]
  },
  {
   "cell_type": "code",
   "execution_count": null,
   "id": "54fd06c9",
   "metadata": {
    "collapsed": true
   },
   "outputs": [],
   "source": [
    "#error functions (integral of gaussian)\n",
    "# its complement and its inverse\n",
    "x = np.array([0, 0.3, 6.0])\n",
    "print(special.erf(x))\n",
    "print(special.erfc(x))\n",
    "print(special.erfinv(x))"
   ]
  },
  {
   "cell_type": "markdown",
   "id": "a1deee29",
   "metadata": {},
   "source": [
    "# advanced ufunc features #"
   ]
  },
  {
   "cell_type": "code",
   "execution_count": null,
   "id": "a4871e21",
   "metadata": {
    "collapsed": true
   },
   "outputs": [],
   "source": [
    "np.add(x, 2)"
   ]
  },
  {
   "cell_type": "code",
   "execution_count": null,
   "id": "180fae36",
   "metadata": {
    "collapsed": true
   },
   "outputs": [],
   "source": [
    "x = np.arange(5)\n",
    "y= np.empty(5)\n",
    "np.multiply(x,10,out=y)\n",
    "np.add(y,10,out=y)\n"
   ]
  },
  {
   "cell_type": "code",
   "execution_count": null,
   "id": "20490319",
   "metadata": {
    "collapsed": true
   },
   "outputs": [],
   "source": [
    "y= np.zeros(10)\n",
    "np.power(2,x,out=y[::2])\n",
    "print(y)"
   ]
  }
 ],
 "metadata": {
  "kernelspec": {
   "display_name": "Python 3 (ipykernel)",
   "language": "python",
   "name": "python3"
  },
  "language_info": {
   "codemirror_mode": {
    "name": "ipython",
    "version": 3
   },
   "file_extension": ".py",
   "mimetype": "text/x-python",
   "name": "python",
   "nbconvert_exporter": "python",
   "pygments_lexer": "ipython3",
   "version": "3.9.7"
  },
  "varInspector": {
   "cols": {
    "lenName": 16,
    "lenType": 16,
    "lenVar": 40
   },
   "kernels_config": {
    "python": {
     "delete_cmd_postfix": "",
     "delete_cmd_prefix": "del ",
     "library": "var_list.py",
     "varRefreshCmd": "print(var_dic_list())"
    },
    "r": {
     "delete_cmd_postfix": ") ",
     "delete_cmd_prefix": "rm(",
     "library": "var_list.r",
     "varRefreshCmd": "cat(var_dic_list()) "
    }
   },
   "types_to_exclude": [
    "module",
    "function",
    "builtin_function_or_method",
    "instance",
    "_Feature"
   ],
   "window_display": false
  }
 },
 "nbformat": 4,
 "nbformat_minor": 5
}
