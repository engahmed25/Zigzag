{
 "cells": [
  {
   "cell_type": "code",
   "execution_count": 7,
   "id": "9d27b788",
   "metadata": {},
   "outputs": [
    {
     "name": "stdout",
     "output_type": "stream",
     "text": [
      "3\n",
      "aaa\n",
      "33\n",
      "22\n",
      "5\n",
      "23\n",
      "255\n",
      "aaa\n"
     ]
    }
   ],
   "source": [
    "\n",
    "\n",
    "students = []\n",
    "\n",
    "scores = []\n",
    "\n",
    "for N in range(int(input())):\n",
    "\n",
    "    name = input()\n",
    "\n",
    "    score = float(input())\n",
    "\n",
    "    scores.append(score)\n",
    "\n",
    "    students.append([name, score])\n",
    "\n",
    "    \n",
    "\n",
    "        \n",
    "\n",
    "count = scores.count(min(scores))\n",
    "\n",
    "for i in range(count):\n",
    "\n",
    "    scores.remove(min(scores))\n",
    "\n",
    "        \n",
    "\n",
    "    secondHigh = min(scores)\n",
    "\n",
    "    \n",
    "\n",
    "    students.sort()\n",
    "\n",
    "    output = [x for x in students if x[1] == secondHigh]\n",
    "\n",
    "    for i in output:\n",
    "\n",
    "        print(i[0])"
   ]
  },
  {
   "cell_type": "code",
   "execution_count": 13,
   "id": "02c4b355",
   "metadata": {},
   "outputs": [
    {
     "name": "stdout",
     "output_type": "stream",
     "text": [
      "5\n",
      "ha\n",
      "37.21\n",
      "ba\n",
      "37.21\n",
      "ti\n",
      "37.2\n",
      "dd\n",
      "41\n",
      "hhh\n",
      "39\n",
      "ba\n",
      "ha\n"
     ]
    }
   ],
   "source": [
    "score_lst = []\n",
    "\n",
    "marksheet = []\n",
    "\n",
    "for _ in range(int(input())):\n",
    "\n",
    "    name = input()\n",
    "\n",
    "    score = float(input())\n",
    "\n",
    "    marksheet.append([name,score])\n",
    "\n",
    "    score_lst.append(score)\n",
    "\n",
    "second_lowest = sorted(list(set(score_lst)))[1]\n",
    "\n",
    "names = [name for name,marks in sorted(marksheet) if marks == second_lowest]\n",
    "\n",
    "print('\\n'.join(names))"
   ]
  },
  {
   "cell_type": "code",
   "execution_count": 11,
   "id": "fe996275",
   "metadata": {},
   "outputs": [
    {
     "name": "stdout",
     "output_type": "stream",
     "text": [
      "5\n",
      "ha\n",
      "37.2\n",
      "ba\n",
      "37.21\n",
      "tina\n",
      "37.2\n",
      "ak\n",
      "41\n",
      "ha\n",
      "39\n",
      "ba\n"
     ]
    }
   ],
   "source": [
    "\n",
    "students = []\n",
    "\n",
    "scores = []\n",
    "\n",
    "for N in range(int(input())):\n",
    "\n",
    "    name = input()\n",
    "\n",
    "    score = float(input())\n",
    "\n",
    "    scores.append(score)\n",
    "\n",
    "    students.append([name, score])\n",
    "\n",
    "\n",
    "\n",
    "\n",
    "\n",
    "count = scores.count(min(scores))\n",
    "\n",
    "for i in range(count):\n",
    "\n",
    "    scores.remove(min(scores))\n",
    "\n",
    "\n",
    "\n",
    "secondHigh = min(scores)\n",
    "\n",
    "\n",
    "\n",
    "students.sort()\n",
    "\n",
    "output = [x for x in students if x[1] == secondHigh]\n",
    "\n",
    "for i in output:\n",
    "\n",
    "    print(i[0])"
   ]
  },
  {
   "cell_type": "code",
   "execution_count": null,
   "id": "898fe15b",
   "metadata": {},
   "outputs": [],
   "source": []
  }
 ],
 "metadata": {
  "kernelspec": {
   "display_name": "Python 3 (ipykernel)",
   "language": "python",
   "name": "python3"
  },
  "language_info": {
   "codemirror_mode": {
    "name": "ipython",
    "version": 3
   },
   "file_extension": ".py",
   "mimetype": "text/x-python",
   "name": "python",
   "nbconvert_exporter": "python",
   "pygments_lexer": "ipython3",
   "version": "3.9.7"
  },
  "varInspector": {
   "cols": {
    "lenName": 16,
    "lenType": 16,
    "lenVar": 40
   },
   "kernels_config": {
    "python": {
     "delete_cmd_postfix": "",
     "delete_cmd_prefix": "del ",
     "library": "var_list.py",
     "varRefreshCmd": "print(var_dic_list())"
    },
    "r": {
     "delete_cmd_postfix": ") ",
     "delete_cmd_prefix": "rm(",
     "library": "var_list.r",
     "varRefreshCmd": "cat(var_dic_list()) "
    }
   },
   "types_to_exclude": [
    "module",
    "function",
    "builtin_function_or_method",
    "instance",
    "_Feature"
   ],
   "window_display": false
  }
 },
 "nbformat": 4,
 "nbformat_minor": 5
}
