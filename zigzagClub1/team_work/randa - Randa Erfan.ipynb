{
 "cells": [
  {
   "cell_type": "markdown",
   "id": "a35eeb9f-df70-4ab1-a243-2d2025888eb0",
   "metadata": {},
   "source": [
    "# Introduction to the JupyterLab and Jupyter Notebooks\n",
    "\n",
    "This is a short introduction to two of the flagship tools created by [the Jupyter Community](https://jupyter.org).\n",
    "\n",
    "> **⚠️Experimental!⚠️**: This is an experimental interface provided by the [JupyterLite project](https://jupyterlite.readthedocs.io/en/latest/). It embeds an entire JupyterLab interface, with many popular packages for scientific computing, in your browser. There may be minor differences in behavior between JupyterLite and the JupyterLab you install locally. You may also encounter some bugs or unexpected behavior. To report any issues, or to get involved with the JupyterLite project, see [the JupyterLite repository](https://github.com/jupyterlite/jupyterlite/issues?q=is%3Aissue+is%3Aopen+sort%3Aupdated-desc).\n",
    "\n",
    "## JupyterLab 🧪\n",
    "\n",
    "**JupyterLab** is a next-generation web-based user interface for Project Jupyter. It enables you to work with documents and activities such as Jupyter notebooks, text editors, terminals, and custom components in a flexible, integrated, and extensible manner. It is the interface that you're looking at right now.\n",
    "\n",
    "**For an overview of the JupyterLab interface**, see the **JupyterLab Welcome Tour** on this page, by going to `Help -> Welcome Tour` and following the prompts.\n",
    "\n",
    "> **See Also**: For a more in-depth tour of JupyterLab with a full environment that runs in the cloud, see [the JupyterLab introduction on Binder](https://mybinder.org/v2/gh/jupyterlab/jupyterlab-demo/HEAD?urlpath=lab/tree/demo).\n",
    "\n",
    "## Jupyter Notebooks 📓\n",
    "\n",
    "**Jupyter Notebooks** are a community standard for communicating and performing interactive computing. They are a document that blends computations, outputs, explanatory text, mathematics, images, and rich media representations of objects.\n",
    "\n",
    "JupyterLab is one interface used to create and interact with Jupyter Notebooks.\n",
    "\n",
    "**For an overview of Jupyter Notebooks**, see the **JupyterLab Welcome Tour** on this page, by going to `Help -> Notebook Tour` and following the prompts.\n",
    "\n",
    "> **See Also**: For a more in-depth tour of Jupyter Notebooks and the Classic Jupyter Notebook interface, see [the Jupyter Notebook IPython tutorial on Binder](https://mybinder.org/v2/gh/ipython/ipython-in-depth/HEAD?urlpath=tree/binder/Index.ipynb).\n",
    "\n",
    "## An example: visualizing data in the notebook ✨\n",
    "\n",
    "Below is an example of a code cell. We'll visualize some simple data using two popular packages in Python. We'll use [NumPy](https://numpy.org/) to create some random data, and [Matplotlib](https://matplotlib.org) to visualize it.\n",
    "\n",
    "Note how the code and the results of running the code are bundled together."
   ]
  },
  {
   "cell_type": "code",
   "execution_count": 1,
   "id": "fe55883a-6887-43dd-9498-5333a51799e2",
   "metadata": {},
   "outputs": [],
   "source": [
    "from matplotlib import pyplot as plt\n",
    "import numpy as np"
   ]
  },
  {
   "cell_type": "code",
   "execution_count": null,
   "id": "a078a9a3-e203-45cc-a608-9a7179ee564b",
   "metadata": {
    "slideshow": {
     "slide_type": "notes"
    },
    "tags": []
   },
   "outputs": [],
   "source": [
    "np.array=([2,4,5])"
   ]
  },
  {
   "cell_type": "code",
   "execution_count": null,
   "id": "6e5b945f-e3ed-45c7-b45c-aba2eef13ef1",
   "metadata": {},
   "outputs": [],
   "source": [
    "np.arr1=([9,8,7,6.5])"
   ]
  },
  {
   "cell_type": "code",
   "execution_count": null,
   "id": "207f7926-2f24-4df4-af4c-9d26bd57bcf8",
   "metadata": {},
   "outputs": [],
   "source": [
    "np.arr2=([9,7,6,5,4],dtype= 'float32')"
   ]
  },
  {
   "cell_type": "code",
   "execution_count": null,
   "id": "88d27610-8244-4de3-8069-04edc516d3b1",
   "metadata": {},
   "outputs": [],
   "source": [
    "np.arr3=([6,7,4,3,2],dtype = 'int64')"
   ]
  },
  {
   "cell_type": "code",
   "execution_count": null,
   "id": "bda17552-28d6-4569-88d9-e2ed56366ab3",
   "metadata": {},
   "outputs": [],
   "source": [
    "np.zeros(10,dtype='int')"
   ]
  },
  {
   "cell_type": "code",
   "execution_count": null,
   "id": "20c9c73d-6e40-4ba8-8711-0266d9bfc64c",
   "metadata": {},
   "outputs": [],
   "source": [
    "np.ones((2,5),dtype='float')"
   ]
  },
  {
   "cell_type": "code",
   "execution_count": null,
   "id": "55baa760-418e-49fd-98b8-3be7bfc46986",
   "metadata": {},
   "outputs": [],
   "source": [
    "np.twos((3,4),dtype='int')"
   ]
  },
  {
   "cell_type": "code",
   "execution_count": null,
   "id": "b04ba398-cd66-4347-b9fc-aa2495c1c746",
   "metadata": {},
   "outputs": [],
   "source": [
    "np.arr4=((4,3,2,dtype='int')"
   ]
  },
  {
   "cell_type": "code",
   "execution_count": null,
   "id": "2112ba0a-8073-4fdd-9602-6ad9dc3d9e16",
   "metadata": {},
   "outputs": [],
   "source": [
    "np.full((3,4),6.5)"
   ]
  },
  {
   "cell_type": "code",
   "execution_count": null,
   "id": "afed29b6-2be2-44dc-a704-3d4074b67180",
   "metadata": {},
   "outputs": [],
   "source": [
    "np.arange((0,10) ===np.arange(10)"
   ]
  },
  {
   "cell_type": "code",
   "execution_count": null,
   "id": "7fba7923-c3c7-426e-b5cb-184c7bee5a5e",
   "metadata": {},
   "outputs": [],
   "source": [
    "np.arange((0,20),2)"
   ]
  },
  {
   "cell_type": "code",
   "execution_count": null,
   "id": "51212dfe-7142-4a85-bd59-2fdbd043adcc",
   "metadata": {},
   "outputs": [],
   "source": [
    "np.empty(3,4)"
   ]
  },
  {
   "cell_type": "code",
   "execution_count": null,
   "id": "1d45db5d-9eea-4d41-8ff0-af214bb2de21",
   "metadata": {},
   "outputs": [],
   "source": [
    "np.random.random(3,3)\n",
    "np.random.random(5,4)"
   ]
  },
  {
   "cell_type": "code",
   "execution_count": null,
   "id": "0386d7fb-a435-4efd-ad90-1d5a80b15714",
   "metadata": {},
   "outputs": [],
   "source": [
    "np.random.randiant(0,50,(3,5))"
   ]
  },
  {
   "cell_type": "code",
   "execution_count": null,
   "id": "c8b8bace-7528-4f0b-a6cf-47dab62befcf",
   "metadata": {},
   "outputs": [],
   "source": [
    "np.random.normal(55,100,(3,4))"
   ]
  },
  {
   "cell_type": "code",
   "execution_count": null,
   "id": "1281c185-d6b9-47eb-89d2-fcbd390605d4",
   "metadata": {},
   "outputs": [],
   "source": [
    "np.eye(3)"
   ]
  },
  {
   "cell_type": "code",
   "execution_count": 2,
   "id": "9c60076c-6297-421f-8242-3a4645859a91",
   "metadata": {},
   "outputs": [
    {
     "data": {
      "text/plain": [
       "array([[1., 0., 0., 0.],\n",
       "       [0., 1., 0., 0.],\n",
       "       [0., 0., 1., 0.],\n",
       "       [0., 0., 0., 1.]])"
      ]
     },
     "execution_count": 2,
     "metadata": {},
     "output_type": "execute_result"
    }
   ],
   "source": [
    "np.eye(4)"
   ]
  },
  {
   "cell_type": "code",
   "execution_count": null,
   "id": "35a043d6-b8e5-4296-83c8-4de5343b8bfd",
   "metadata": {},
   "outputs": [],
   "source": [
    "np.arr6([4,3,2,2],\n",
    "        [6,7,8,9],\n",
    "        [1,2,3,4]\n",
    "        ,\n",
    "        [1,2,3,4],\n",
    "        [5,6,7,8],\n",
    "        [9,7,4,2]\n",
    "        ,\n",
    "        [1,2,3,4],\n",
    "        [4,5,6,7],\n",
    "        [3,3,2,1],dtype='float64')\n",
    "\n",
    "   x2=arr6     \n",
    "        "
   ]
  },
  {
   "cell_type": "code",
   "execution_count": 3,
   "id": "05f81940-be1c-45c4-a61a-6942cb412488",
   "metadata": {},
   "outputs": [
    {
     "ename": "NameError",
     "evalue": "name 'x2' is not defined",
     "output_type": "error",
     "traceback": [
      "\u001b[1;31m---------------------------------------------------------------------------\u001b[0m",
      "\u001b[1;31mNameError\u001b[0m                                 Traceback (most recent call last)",
      "\u001b[1;32m~\\AppData\\Local\\Temp/ipykernel_4216/958199145.py\u001b[0m in \u001b[0;36m<module>\u001b[1;34m\u001b[0m\n\u001b[1;32m----> 1\u001b[1;33m \u001b[0mx2\u001b[0m\u001b[1;33m.\u001b[0m\u001b[0mshape\u001b[0m\u001b[1;33m\u001b[0m\u001b[1;33m\u001b[0m\u001b[0m\n\u001b[0m\u001b[0;32m      2\u001b[0m \u001b[0mx2\u001b[0m\u001b[1;33m.\u001b[0m\u001b[0msize\u001b[0m\u001b[1;33m\u001b[0m\u001b[1;33m\u001b[0m\u001b[0m\n\u001b[0;32m      3\u001b[0m \u001b[0mx2\u001b[0m\u001b[1;33m.\u001b[0m\u001b[0mndim\u001b[0m\u001b[1;33m\u001b[0m\u001b[1;33m\u001b[0m\u001b[0m\n\u001b[0;32m      4\u001b[0m \u001b[0mx\u001b[0m\u001b[1;33m.\u001b[0m\u001b[0mdtype\u001b[0m\u001b[1;33m\u001b[0m\u001b[1;33m\u001b[0m\u001b[0m\n",
      "\u001b[1;31mNameError\u001b[0m: name 'x2' is not defined"
     ]
    }
   ],
   "source": [
    "x2.shape\n",
    "x2.size\n",
    "x2.ndim\n",
    "x.dtype"
   ]
  },
  {
   "cell_type": "markdown",
   "id": "b9670d85-ef29-4dfd-b4b5-e76d279c1f1a",
   "metadata": {},
   "source": [
    "## Next steps 🏃\n",
    "\n",
    "This is just a short introduction to JupyterLab and Jupyter Notebooks. See below for some more ways to interact with tools in the Jupyter ecosystem, and its community.\n",
    "\n",
    "### Other notebooks in this demo\n",
    "\n",
    "Here are some other notebooks in this demo. Each of the items below corresponds to a file or folder in the **file browser to the left**.\n",
    "\n",
    "- [**`Lorenz.ipynb`**](Lorenz.ipynb) uses Python to demonstrate interactive visualizations and computations around the [Lorenz system](https://en.wikipedia.org/wiki/Lorenz_system). It shows off basic Python functionality, including more visualizations, data structures, and scientific computing libraries.\n",
    "- [**`sqlite.ipynb`**](sqlite.ipynb) demonstrates how an in-browser sqlite kernel to run your own SQL commands from the notebook. It uses the [jupyterlite/xeus-sqlite-kernel](https://github.com/jupyterlite/xeus-sqlite-kernel).\n",
    "\n",
    "### Other sources of information in Jupyter\n",
    "\n",
    "- **More on using JupyterLab**: See [the JupyterLab documentation](https://jupyterlab.readthedocs.io/en/stable/) for more thorough information about how to install and use JupyterLab.\n",
    "- **More interactive demos**: See [try.jupyter.org](https://try.jupyter.org) for more interactive demos with the Jupyter ecosystem.\n",
    "- **Learn more about Jupyter**: See [the Jupyter community documentation](https://docs.jupyter.org) to learn more about the project, its community and tools, and how to get involved.\n",
    "- **Join our discussions**: The [Jupyter Community Forum](https://discourse.jupyter.org) is a place where many in the Jupyter community ask questions, help one another, and discuss issues around interactive computing and our ecosystem."
   ]
  },
  {
   "cell_type": "code",
   "execution_count": null,
   "id": "48ed69b3-5000-426f-aa08-e6322486d56c",
   "metadata": {},
   "outputs": [],
   "source": []
  },
  {
   "cell_type": "code",
   "execution_count": null,
   "id": "5f2fbc30-0143-4272-bf54-1983c0f8275f",
   "metadata": {},
   "outputs": [],
   "source": []
  },
  {
   "cell_type": "code",
   "execution_count": null,
   "id": "f3c71d4b-8533-4899-bd07-26295f939374",
   "metadata": {},
   "outputs": [],
   "source": []
  },
  {
   "cell_type": "code",
   "execution_count": null,
   "id": "c0224a70-18b9-41a4-9a7f-87b633b47126",
   "metadata": {},
   "outputs": [],
   "source": []
  },
  {
   "cell_type": "code",
   "execution_count": null,
   "id": "c6457147-a466-4219-9e03-e8967084835e",
   "metadata": {},
   "outputs": [],
   "source": []
  }
 ],
 "metadata": {
  "kernelspec": {
   "display_name": "Python 3 (ipykernel)",
   "language": "python",
   "name": "python3"
  },
  "language_info": {
   "codemirror_mode": {
    "name": "ipython",
    "version": 3
   },
   "file_extension": ".py",
   "mimetype": "text/x-python",
   "name": "python",
   "nbconvert_exporter": "python",
   "pygments_lexer": "ipython3",
   "version": "3.9.7"
  },
  "varInspector": {
   "cols": {
    "lenName": 16,
    "lenType": 16,
    "lenVar": 40
   },
   "kernels_config": {
    "python": {
     "delete_cmd_postfix": "",
     "delete_cmd_prefix": "del ",
     "library": "var_list.py",
     "varRefreshCmd": "print(var_dic_list())"
    },
    "r": {
     "delete_cmd_postfix": ") ",
     "delete_cmd_prefix": "rm(",
     "library": "var_list.r",
     "varRefreshCmd": "cat(var_dic_list()) "
    }
   },
   "types_to_exclude": [
    "module",
    "function",
    "builtin_function_or_method",
    "instance",
    "_Feature"
   ],
   "window_display": false
  }
 },
 "nbformat": 4,
 "nbformat_minor": 5
}
