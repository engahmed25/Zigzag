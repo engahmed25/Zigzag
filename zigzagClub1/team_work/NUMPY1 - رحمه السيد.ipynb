{
 "cells": [
  {
   "cell_type": "code",
   "execution_count": 2,
   "id": "0237ae34",
   "metadata": {},
   "outputs": [],
   "source": [
    "import numpy as np"
   ]
  },
  {
   "cell_type": "markdown",
   "id": "286ca8f3",
   "metadata": {},
   "source": [
    "# The Basics"
   ]
  },
  {
   "cell_type": "code",
   "execution_count": 3,
   "id": "e0988b6d",
   "metadata": {},
   "outputs": [
    {
     "name": "stdout",
     "output_type": "stream",
     "text": [
      "[1 2 3]\n"
     ]
    }
   ],
   "source": [
    "a= np.array([1,2,3])\n",
    "print(a)"
   ]
  },
  {
   "cell_type": "code",
   "execution_count": 4,
   "id": "eb6e71ac",
   "metadata": {},
   "outputs": [
    {
     "name": "stdout",
     "output_type": "stream",
     "text": [
      "[[4. 5. 6.]\n",
      " [7. 8. 9.]]\n"
     ]
    }
   ],
   "source": [
    "b=np.array([[4.0,5.0,6.0],[7.0,8.0,9.0]])\n",
    "print(b)"
   ]
  },
  {
   "cell_type": "code",
   "execution_count": 5,
   "id": "28985355",
   "metadata": {},
   "outputs": [
    {
     "name": "stdout",
     "output_type": "stream",
     "text": [
      "1\n",
      "2\n"
     ]
    }
   ],
   "source": [
    "#get dimension\n",
    "print(a.ndim)\n",
    "print(b.ndim)"
   ]
  },
  {
   "cell_type": "code",
   "execution_count": 6,
   "id": "0aa68f02",
   "metadata": {},
   "outputs": [
    {
     "name": "stdout",
     "output_type": "stream",
     "text": [
      "(3,)\n",
      "(2, 3)\n"
     ]
    }
   ],
   "source": [
    "#get shape\n",
    "print(a.shape)\n",
    "print(b.shape)"
   ]
  },
  {
   "cell_type": "code",
   "execution_count": 7,
   "id": "d674f925",
   "metadata": {},
   "outputs": [
    {
     "name": "stdout",
     "output_type": "stream",
     "text": [
      "int32\n",
      "float64\n"
     ]
    }
   ],
   "source": [
    "#get type\n",
    "print(a.dtype)\n",
    "print(b.dtype)"
   ]
  },
  {
   "cell_type": "code",
   "execution_count": 13,
   "id": "cef596ab",
   "metadata": {},
   "outputs": [
    {
     "name": "stdout",
     "output_type": "stream",
     "text": [
      "3\n",
      "6\n"
     ]
    }
   ],
   "source": [
    "#get size\n",
    "print(a.size)\n",
    "print(b.size)"
   ]
  },
  {
   "cell_type": "code",
   "execution_count": 12,
   "id": "2b3be91d",
   "metadata": {},
   "outputs": [
    {
     "name": "stdout",
     "output_type": "stream",
     "text": [
      "4\n",
      "8\n"
     ]
    }
   ],
   "source": [
    "#get item size\n",
    "print(a.itemsize)\n",
    "print(b.itemsize)"
   ]
  },
  {
   "cell_type": "code",
   "execution_count": 14,
   "id": "206d570b",
   "metadata": {},
   "outputs": [
    {
     "name": "stdout",
     "output_type": "stream",
     "text": [
      "12\n",
      "48\n"
     ]
    }
   ],
   "source": [
    "#get total size\n",
    "print(a.size * a.itemsize)\n",
    "print(b.size * b.itemsize)"
   ]
  },
  {
   "cell_type": "code",
   "execution_count": 15,
   "id": "9a37d7b3",
   "metadata": {},
   "outputs": [
    {
     "name": "stdout",
     "output_type": "stream",
     "text": [
      "12\n",
      "48\n"
     ]
    }
   ],
   "source": [
    "#get total size (another solution)\n",
    "print(a.nbytes)\n",
    "print(b.nbytes)"
   ]
  },
  {
   "cell_type": "markdown",
   "id": "b50dd7b9",
   "metadata": {},
   "source": [
    "# Accessing/changing specific elements,row,columns,ect"
   ]
  },
  {
   "cell_type": "code",
   "execution_count": 16,
   "id": "dddc123e",
   "metadata": {},
   "outputs": [
    {
     "name": "stdout",
     "output_type": "stream",
     "text": [
      "[[ 1  2  3  4  5  6  7]\n",
      " [ 8  9 10 11 12 13 14]]\n",
      "(2, 7)\n"
     ]
    }
   ],
   "source": [
    "a=np.array([[1,2,3,4,5,6,7],[8,9,10,11,12,13,14]])\n",
    "print(a)\n",
    "print(a.shape)"
   ]
  },
  {
   "cell_type": "code",
   "execution_count": 19,
   "id": "b2b204a0",
   "metadata": {},
   "outputs": [
    {
     "name": "stdout",
     "output_type": "stream",
     "text": [
      "13\n"
     ]
    }
   ],
   "source": [
    "#get a specific element [r,c]\n",
    "print(a[1,5])"
   ]
  },
  {
   "cell_type": "code",
   "execution_count": 20,
   "id": "4fe82e5a",
   "metadata": {},
   "outputs": [
    {
     "name": "stdout",
     "output_type": "stream",
     "text": [
      "[1 2 3 4 5 6 7]\n"
     ]
    }
   ],
   "source": [
    "#get a specific row \n",
    "print (a[0,:])"
   ]
  },
  {
   "cell_type": "code",
   "execution_count": 24,
   "id": "1353a29b",
   "metadata": {},
   "outputs": [
    {
     "name": "stdout",
     "output_type": "stream",
     "text": [
      "[ 3 10]\n"
     ]
    }
   ],
   "source": [
    "#get a specific column \n",
    "print (a[:,2])"
   ]
  },
  {
   "cell_type": "code",
   "execution_count": 25,
   "id": "6125e56f",
   "metadata": {},
   "outputs": [
    {
     "name": "stdout",
     "output_type": "stream",
     "text": [
      "[2 4 6]\n"
     ]
    }
   ],
   "source": [
    "#getting a little more fancy [startindex:endindex:stepsize]\n",
    "print (a[0,1:6:2])"
   ]
  },
  {
   "cell_type": "code",
   "execution_count": 26,
   "id": "a3ce17af",
   "metadata": {},
   "outputs": [
    {
     "name": "stdout",
     "output_type": "stream",
     "text": [
      "[[ 1  2  3  4  5  6  7]\n",
      " [ 8  9 10 11 12 25 14]]\n"
     ]
    }
   ],
   "source": [
    "#changing element\n",
    "a[1,5]=25\n",
    "print(a)"
   ]
  },
  {
   "cell_type": "code",
   "execution_count": 6,
   "id": "c7a00312",
   "metadata": {},
   "outputs": [
    {
     "ename": "NameError",
     "evalue": "name 'a' is not defined",
     "output_type": "error",
     "traceback": [
      "\u001b[1;31m---------------------------------------------------------------------------\u001b[0m",
      "\u001b[1;31mNameError\u001b[0m                                 Traceback (most recent call last)",
      "\u001b[1;32m~\\AppData\\Local\\Temp/ipykernel_8940/1574587254.py\u001b[0m in \u001b[0;36m<module>\u001b[1;34m\u001b[0m\n\u001b[0;32m      1\u001b[0m \u001b[1;31m#changing element\u001b[0m\u001b[1;33m\u001b[0m\u001b[1;33m\u001b[0m\u001b[0m\n\u001b[1;32m----> 2\u001b[1;33m \u001b[0ma\u001b[0m\u001b[1;33m[\u001b[0m\u001b[1;33m:\u001b[0m\u001b[1;33m,\u001b[0m\u001b[1;36m2\u001b[0m\u001b[1;33m]\u001b[0m\u001b[1;33m=\u001b[0m\u001b[1;33m[\u001b[0m\u001b[1;36m30\u001b[0m\u001b[1;33m,\u001b[0m\u001b[1;36m100\u001b[0m\u001b[1;33m]\u001b[0m\u001b[1;33m\u001b[0m\u001b[1;33m\u001b[0m\u001b[0m\n\u001b[0m\u001b[0;32m      3\u001b[0m \u001b[0mprint\u001b[0m\u001b[1;33m(\u001b[0m\u001b[0ma\u001b[0m\u001b[1;33m)\u001b[0m\u001b[1;33m\u001b[0m\u001b[1;33m\u001b[0m\u001b[0m\n",
      "\u001b[1;31mNameError\u001b[0m: name 'a' is not defined"
     ]
    }
   ],
   "source": [
    "#changing element\n",
    "a[:,2]=[30,100]\n",
    "print(a)"
   ]
  },
  {
   "cell_type": "markdown",
   "id": "6c953c30",
   "metadata": {},
   "source": [
    "# 3-d array (example)"
   ]
  },
  {
   "cell_type": "code",
   "execution_count": 36,
   "id": "9ae5faae",
   "metadata": {},
   "outputs": [
    {
     "name": "stdout",
     "output_type": "stream",
     "text": [
      "[[[1 2]\n",
      "  [3 4]]\n",
      "\n",
      " [[5 6]\n",
      "  [7 8]]] \n",
      "\n",
      "\n",
      "(2, 2, 2)\n"
     ]
    }
   ],
   "source": [
    "b=np.array([[[1,2],[3,4]],[[5,6],[7,8]]])\n",
    "print(b,'\\n\\n')\n",
    "print(b.shape)"
   ]
  },
  {
   "cell_type": "code",
   "execution_count": 37,
   "id": "5eeab765",
   "metadata": {},
   "outputs": [
    {
     "name": "stdout",
     "output_type": "stream",
     "text": [
      "4 \n",
      "\n",
      "\n",
      "[[3 4]\n",
      " [7 8]]\n"
     ]
    }
   ],
   "source": [
    "#get specific element\n",
    "print (b[0,1,1],'\\n\\n')\n",
    "print (b[:,1,:])"
   ]
  },
  {
   "cell_type": "code",
   "execution_count": 38,
   "id": "e2c0c00d",
   "metadata": {},
   "outputs": [
    {
     "name": "stdout",
     "output_type": "stream",
     "text": [
      "[[[1 2]\n",
      "  [9 9]]\n",
      "\n",
      " [[5 6]\n",
      "  [8 8]]]\n"
     ]
    }
   ],
   "source": [
    "#Replace\n",
    "b[:,1,:]=[[9,9],[8,8]]\n",
    "print (b)"
   ]
  },
  {
   "cell_type": "markdown",
   "id": "740e2ebe",
   "metadata": {},
   "source": [
    "# different types of arrays"
   ]
  },
  {
   "cell_type": "code",
   "execution_count": 9,
   "id": "791511f0",
   "metadata": {},
   "outputs": [
    {
     "name": "stdout",
     "output_type": "stream",
     "text": [
      "[0. 0. 0. 0. 0.] \n",
      "\n",
      "\n",
      "[[0. 0. 0.]\n",
      " [0. 0. 0.]]\n"
     ]
    }
   ],
   "source": [
    "#All 0s matrix\n",
    "print(np.zeros (5),'\\n\\n')\n",
    "print(np.zeros((2,3)))"
   ]
  },
  {
   "cell_type": "code",
   "execution_count": 10,
   "id": "66e2c0ab",
   "metadata": {},
   "outputs": [
    {
     "name": "stdout",
     "output_type": "stream",
     "text": [
      "[[1. 1.]\n",
      " [1. 1.]\n",
      " [1. 1.]] \n",
      "\n",
      "\n",
      "[[[1. 1. 1. 1.]\n",
      "  [1. 1. 1. 1.]\n",
      "  [1. 1. 1. 1.]]\n",
      "\n",
      " [[1. 1. 1. 1.]\n",
      "  [1. 1. 1. 1.]\n",
      "  [1. 1. 1. 1.]]]\n"
     ]
    }
   ],
   "source": [
    "#All 1s matrix\n",
    "print(np.ones((3,2)) ,'\\n\\n')\n",
    "print(np.ones((2,3,4)))"
   ]
  },
  {
   "cell_type": "code",
   "execution_count": 12,
   "id": "6a1ea31e",
   "metadata": {},
   "outputs": [
    {
     "name": "stdout",
     "output_type": "stream",
     "text": [
      "[[9 9]\n",
      " [9 9]\n",
      " [9 9]] \n",
      "\n",
      "\n",
      "[[[5 5 5 5]\n",
      "  [5 5 5 5]\n",
      "  [5 5 5 5]]\n",
      "\n",
      " [[5 5 5 5]\n",
      "  [5 5 5 5]\n",
      "  [5 5 5 5]]]\n"
     ]
    }
   ],
   "source": [
    "#Any other number\n",
    "print(np.full((3,2),9) ,'\\n\\n')\n",
    "print(np.full((2,3,4),5))"
   ]
  },
  {
   "cell_type": "code",
   "execution_count": 3,
   "id": "40ac79d2",
   "metadata": {},
   "outputs": [
    {
     "ename": "NameError",
     "evalue": "name 'a' is not defined",
     "output_type": "error",
     "traceback": [
      "\u001b[1;31m---------------------------------------------------------------------------\u001b[0m",
      "\u001b[1;31mNameError\u001b[0m                                 Traceback (most recent call last)",
      "\u001b[1;32m~\\AppData\\Local\\Temp/ipykernel_8940/88202895.py\u001b[0m in \u001b[0;36m<module>\u001b[1;34m\u001b[0m\n\u001b[0;32m      1\u001b[0m \u001b[1;31m#any other number (full_like)\u001b[0m\u001b[1;33m\u001b[0m\u001b[1;33m\u001b[0m\u001b[0m\n\u001b[1;32m----> 2\u001b[1;33m \u001b[0mprint\u001b[0m\u001b[1;33m(\u001b[0m\u001b[0mnp\u001b[0m\u001b[1;33m.\u001b[0m\u001b[0mfull\u001b[0m\u001b[1;33m(\u001b[0m\u001b[0ma\u001b[0m\u001b[1;33m.\u001b[0m\u001b[0mshape\u001b[0m\u001b[1;33m,\u001b[0m\u001b[1;36m4\u001b[0m\u001b[1;33m)\u001b[0m\u001b[1;33m,\u001b[0m\u001b[1;34m'\\n\\n'\u001b[0m\u001b[1;33m)\u001b[0m\u001b[1;33m\u001b[0m\u001b[1;33m\u001b[0m\u001b[0m\n\u001b[0m\u001b[0;32m      3\u001b[0m \u001b[1;31m#or\u001b[0m\u001b[1;33m\u001b[0m\u001b[1;33m\u001b[0m\u001b[0m\n",
      "\u001b[1;31mNameError\u001b[0m: name 'a' is not defined"
     ]
    }
   ],
   "source": [
    "#any other number (full_like)\n",
    "print(np.full(a.shape,4),'\\n\\n')\n",
    "#or\n"
   ]
  },
  {
   "cell_type": "code",
   "execution_count": 4,
   "id": "d5669a09",
   "metadata": {},
   "outputs": [
    {
     "name": "stdout",
     "output_type": "stream",
     "text": [
      "[[0.2208243  0.7521171  0.93321156 0.50944924 0.74465766 0.34209071]\n",
      " [0.89364812 0.39579715 0.16764666 0.84615022 0.14128214 0.15976021]\n",
      " [0.51155348 0.92463147 0.11576178 0.04450762 0.48947295 0.02469476]]\n"
     ]
    }
   ],
   "source": [
    "#Random decimal numbers\n",
    "print(np.random.rand(3,6))"
   ]
  },
  {
   "cell_type": "code",
   "execution_count": 5,
   "id": "dba617a6",
   "metadata": {},
   "outputs": [
    {
     "name": "stdout",
     "output_type": "stream",
     "text": [
      "[[1 0 0 3 4 2]\n",
      " [4 4 0 4 2 4]\n",
      " [2 0 4 1 4 2]] \n",
      "\n",
      "\n",
      "[[4 2 4 3 2 4]\n",
      " [4 3 2 4 3 2]\n",
      " [3 2 4 5 2 5]]\n"
     ]
    }
   ],
   "source": [
    "#Random integer numbers\n",
    "print(np.random.randint(5,size=(3,6)),'\\n\\n')\n",
    "print(np.random.randint(2,6,size=(3,6)))"
   ]
  },
  {
   "cell_type": "code",
   "execution_count": 30,
   "id": "75ebcf31",
   "metadata": {},
   "outputs": [
    {
     "name": "stdout",
     "output_type": "stream",
     "text": [
      "[[1. 0. 0. 0. 0.]\n",
      " [0. 1. 0. 0. 0.]\n",
      " [0. 0. 1. 0. 0.]\n",
      " [0. 0. 0. 1. 0.]\n",
      " [0. 0. 0. 0. 1.]] \n",
      "\n",
      "\n",
      "[[1. 0. 0.]\n",
      " [0. 1. 0.]\n",
      " [0. 0. 1.]]\n"
     ]
    }
   ],
   "source": [
    "#the identity matrix\n",
    "print(np.identity(5),'\\n\\n')\n",
    "print(np.identity(3))"
   ]
  },
  {
   "cell_type": "code",
   "execution_count": 45,
   "id": "592893bc",
   "metadata": {},
   "outputs": [
    {
     "name": "stdout",
     "output_type": "stream",
     "text": [
      "[[1 2 3]] \n",
      "\n",
      "\n",
      "[1 1 1 2 2 2 3 3 3] \n",
      "\n",
      "\n",
      "[[1 2 3]\n",
      " [1 2 3]\n",
      " [1 2 3]]\n"
     ]
    }
   ],
   "source": [
    "#Repeat an array\n",
    "array=np.array([[1,2,3]])\n",
    "r=np.repeat(array,3)\n",
    "e=np.repeat(array,3, axis=0)\n",
    "print(array,'\\n\\n')\n",
    "print(r,'\\n\\n')\n",
    "print(e)"
   ]
  },
  {
   "cell_type": "markdown",
   "id": "b71213f2",
   "metadata": {},
   "source": [
    "# Mathematics"
   ]
  },
  {
   "cell_type": "code",
   "execution_count": 65,
   "id": "2ce6e3d0",
   "metadata": {},
   "outputs": [
    {
     "name": "stdout",
     "output_type": "stream",
     "text": [
      "[1 2 3 4 5] \n",
      "\n",
      "\n",
      "[3 4 5 6 7] \n",
      "\n",
      "\n",
      "[-1  0  1  2  3] \n",
      "\n",
      "\n",
      "[ 2  4  6  8 10] \n",
      "\n",
      "\n",
      "[0.5 1.  1.5 2.  2.5] \n",
      "\n",
      "\n",
      "[ 1  4  9 16 25]\n"
     ]
    }
   ],
   "source": [
    "m=np.array([1,2,3,4,5])\n",
    "print(m,'\\n\\n')\n",
    "print(m+2,'\\n\\n')\n",
    "print(m-2,'\\n\\n')\n",
    "print(m*2,'\\n\\n')\n",
    "print(m/2,'\\n\\n')\n",
    "print(m**2)"
   ]
  },
  {
   "cell_type": "code",
   "execution_count": 67,
   "id": "3b28cad4",
   "metadata": {},
   "outputs": [
    {
     "name": "stdout",
     "output_type": "stream",
     "text": [
      "[5 6 7 8 9]\n"
     ]
    }
   ],
   "source": [
    "m += 2\n",
    "print(m)"
   ]
  },
  {
   "cell_type": "code",
   "execution_count": 69,
   "id": "5b6e6887",
   "metadata": {},
   "outputs": [
    {
     "name": "stdout",
     "output_type": "stream",
     "text": [
      "[ 2  4  6  8 10] \n",
      "\n",
      "\n",
      "[ 7 10 13 16 19]\n"
     ]
    }
   ],
   "source": [
    "b=np.array([2,4,6,8,10])\n",
    "print(b,'\\n\\n')\n",
    "print(m+b)\n"
   ]
  },
  {
   "cell_type": "code",
   "execution_count": 72,
   "id": "a764dc73",
   "metadata": {},
   "outputs": [
    {
     "name": "stdout",
     "output_type": "stream",
     "text": [
      "[-0.95892427 -0.2794155   0.6569866   0.98935825  0.41211849]\n",
      "[ 0.28366219  0.96017029  0.75390225 -0.14550003 -0.91113026]\n",
      "[-3.38051501 -0.29100619  0.87144798 -6.79971146 -0.45231566] \n",
      "\n",
      "\n",
      "[ 0.90929743 -0.7568025  -0.2794155   0.98935825 -0.54402111]\n",
      "[-0.41614684 -0.65364362  0.96017029 -0.14550003 -0.83907153]\n",
      "[-2.18503986  1.15782128 -0.29100619 -6.79971146  0.64836083]\n"
     ]
    }
   ],
   "source": [
    "#take the (sin,cos,tan)\n",
    "print(np.sin(m))\n",
    "print(np.cos(m))\n",
    "print(np.tan(m),'\\n\\n')\n",
    "print(np.sin(b))\n",
    "print(np.cos(b))\n",
    "print(np.tan(b))\n"
   ]
  }
 ],
 "metadata": {
  "kernelspec": {
   "display_name": "Python 3 (ipykernel)",
   "language": "python",
   "name": "python3"
  },
  "language_info": {
   "codemirror_mode": {
    "name": "ipython",
    "version": 3
   },
   "file_extension": ".py",
   "mimetype": "text/x-python",
   "name": "python",
   "nbconvert_exporter": "python",
   "pygments_lexer": "ipython3",
   "version": "3.9.7"
  },
  "varInspector": {
   "cols": {
    "lenName": 16,
    "lenType": 16,
    "lenVar": 40
   },
   "kernels_config": {
    "python": {
     "delete_cmd_postfix": "",
     "delete_cmd_prefix": "del ",
     "library": "var_list.py",
     "varRefreshCmd": "print(var_dic_list())"
    },
    "r": {
     "delete_cmd_postfix": ") ",
     "delete_cmd_prefix": "rm(",
     "library": "var_list.r",
     "varRefreshCmd": "cat(var_dic_list()) "
    }
   },
   "types_to_exclude": [
    "module",
    "function",
    "builtin_function_or_method",
    "instance",
    "_Feature"
   ],
   "window_display": false
  }
 },
 "nbformat": 4,
 "nbformat_minor": 5
}
